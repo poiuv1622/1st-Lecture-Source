{
 "cells": [
  {
   "cell_type": "markdown",
   "metadata": {},
   "source": [
    "# 05. 시퀀스 자료형\n",
    "---\n",
    "## 시퀀스 자료형의 개요\n",
    "### 시퀀스 자료형이란?\n",
    "\n",
    "\n",
    "* 여러 값을 순서대로 저장하는 데이터 구조이다. 대표적인 시퀀스 자료형에는 리스트, 튜플, 문자열이 있다. <br>\n",
    "* 시퀀스 자료형에는 각 요소에 인덱스를 가지고 있어, 인덱스로 요소에 접근이 가능하다.\n"
   ]
  },
  {
   "cell_type": "code",
   "execution_count": null,
   "metadata": {},
   "outputs": [],
   "source": []
  },
  {
   "cell_type": "markdown",
   "metadata": {},
   "source": [
    "### 인덱싱\n",
    "- 시퀀스 자료형의 인덱스를 가지고 특정 요소를 추출 할 수 있다.\n",
    "- 인덱스를 음수로 지정하면 끝에서부터 요소를 찾는다."
   ]
  },
  {
   "cell_type": "code",
   "execution_count": 2,
   "metadata": {},
   "outputs": [],
   "source": [
    "tuple = (1,2,3)"
   ]
  },
  {
   "cell_type": "markdown",
   "metadata": {},
   "source": [
    "### 슬라이싱\n",
    "* 인덱스를 사용해 기존 시퀀스 자료형에서 원하는 만큼 요소 추출이 가능하다."
   ]
  },
  {
   "cell_type": "code",
   "execution_count": 7,
   "metadata": {},
   "outputs": [
    {
     "name": "stdout",
     "output_type": "stream",
     "text": [
      "['서울특별시', '창원시', '의왕시']\n",
      "갑습니다.\n"
     ]
    }
   ],
   "source": [
    "location = ['서울특별시', '창원시', '의왕시', '시흥시']\n",
    "print(location[0:3])\n",
    "\n",
    "str = '안녕하세요. 반갑습니다.'\n",
    "print(str[-5::])"
   ]
  },
  {
   "cell_type": "markdown",
   "metadata": {},
   "source": [
    "- 자료형 뒤에 대괄호를 붙이고 **(시작 인덱스) : (끝 인덱스) : (오프셋)** 으로 문자열을 추출할 수 있다.\n",
    "    - **시작 인덱스** : 문자열에서 추출할 내용이 시작하는 인덱스 (시작 인덱스를 비우면 처음부터)\n",
    "    - **끝 인덱스** : 문자열에서 추출할 내용의 끝 글자 다음 인덱스 (끝 인덱스를 비우면 끝까지)\n",
    "    - **오프셋** : 시작 인덱스부터 오프셋 숫자만큼 더한 인덱스 위치마다에서 추출"
   ]
  },
  {
   "cell_type": "code",
   "execution_count": null,
   "metadata": {},
   "outputs": [],
   "source": []
  },
  {
   "cell_type": "markdown",
   "metadata": {},
   "source": [
    "## 시퀀스 자료형의 연산 및 내장함수\n",
    "\n",
    "### in 연산자\n",
    "* 특정 값이 시퀀스 자료형에 포함되어 있는지 확인하는 연산자\n",
    "* 포함되어 있으면 True, 없으면 False를 반환\n",
    "사용법:\n",
    "* 문자열: 찾고자 하는 문자열이 순서대로 포함되어 있는지 확인\n",
    "* 리스트/튜플: 찾고자 하는 값이 하나의 요소로 정확히 일치하는지 확인\n",
    "  (주의: 리스트나 튜플의 일부분만 찾을 수는 없음)\n"
   ]
  },
  {
   "cell_type": "code",
   "execution_count": 8,
   "metadata": {},
   "outputs": [
    {
     "name": "stdout",
     "output_type": "stream",
     "text": [
      "True\n"
     ]
    }
   ],
   "source": [
    "location = ['서울특별시', '창원시', '의왕시', '시흥시', '부산광역시']\n",
    "\n",
    "print('시흥시' in location)"
   ]
  },
  {
   "cell_type": "markdown",
   "metadata": {},
   "source": [
    "### len()\n",
    "* 인자로 전달한 시퀀스 자료형의 요소의 개수(문자열의 길이, 리스트의 요소 갯수)를 반환한다."
   ]
  },
  {
   "cell_type": "code",
   "execution_count": 9,
   "metadata": {},
   "outputs": [
    {
     "name": "stdout",
     "output_type": "stream",
     "text": [
      "5\n"
     ]
    }
   ],
   "source": [
    "print(len(location))"
   ]
  },
  {
   "cell_type": "code",
   "execution_count": null,
   "metadata": {},
   "outputs": [],
   "source": []
  }
 ],
 "metadata": {
  "kernelspec": {
   "display_name": "helloworld",
   "language": "python",
   "name": "python3"
  },
  "language_info": {
   "codemirror_mode": {
    "name": "ipython",
    "version": 3
   },
   "file_extension": ".py",
   "mimetype": "text/x-python",
   "name": "python",
   "nbconvert_exporter": "python",
   "pygments_lexer": "ipython3",
   "version": "3.11.14"
  }
 },
 "nbformat": 4,
 "nbformat_minor": 2
}
