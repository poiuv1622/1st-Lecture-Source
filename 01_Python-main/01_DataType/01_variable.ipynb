{
 "cells": [
  {
   "cell_type": "markdown",
   "id": "5157c07d",
   "metadata": {},
   "source": [
    "# 01. 변수\n",
    "---\n",
    "\n",
    "## 변수란?\n",
    "* 프로그램에서 다루는 어떤 자료(정보)를 담는 공간이다.\n",
    "### 변수 생성\n",
    "- 변수 생성은 **대입 연산자 =** 를 기준으로 좌항에는 변수의 이름, 우항에는 변수에 담을 자료를 작성한다.\n",
    "- 변수의 생성과 변수의 값 변경 모두 같은 방법으로 작성한다.\n",
    "- 파이썬은 변수 공간의 자료형 선언이 없다.\n",
    "\n",
    "ex) [변수명] = [데이터]\n",
    "\n",
    "## 대입연산자\n",
    "### 대입연산자 \"=\"\n",
    "* 대입 연산자를 기준으로 우항에 있는 값을 좌항의 변수 공간에 대입하는 의미를 가진다.\n",
    "* 대입 연산자의 우항에도 변수명이 올 수 있는데, 이때 변수명은 공간이 아닌 값으로 인식한다."
   ]
  },
  {
   "cell_type": "code",
   "execution_count": 1,
   "id": "83a98ebe",
   "metadata": {},
   "outputs": [
    {
     "name": "stdout",
     "output_type": "stream",
     "text": [
      "HDWIA\n"
     ]
    }
   ],
   "source": [
    "company = 'HDWIA'\n",
    "print(company)"
   ]
  },
  {
   "cell_type": "markdown",
   "id": "4935f64b",
   "metadata": {},
   "source": [
    "---\n",
    "## 변수 이름 명명 규칙\n",
    "\n",
    "1. 변수명은 변수에 담긴 값이 무엇인지 직관적으로 알 수 있게 적는다."
   ]
  },
  {
   "cell_type": "code",
   "execution_count": null,
   "id": "fdbcf35e",
   "metadata": {},
   "outputs": [],
   "source": []
  },
  {
   "cell_type": "markdown",
   "id": "80937e77",
   "metadata": {},
   "source": [
    "2. 변수명은 스네이크 케이스(소문자 + 언더바)로 작성하며, 대소문자를 구별한다."
   ]
  },
  {
   "cell_type": "code",
   "execution_count": 2,
   "id": "630531a1",
   "metadata": {},
   "outputs": [],
   "source": [
    "company_name = '헬로월드랩스'"
   ]
  },
  {
   "cell_type": "markdown",
   "id": "c049c8f3",
   "metadata": {},
   "source": [
    "3. 한글 변수명을 지정할 수 있다. <br>\n",
    "=> 하지만 인코딩 등의 문제를 야기할 수 있기 때문에 사용을 지양하는 것이 좋다."
   ]
  },
  {
   "cell_type": "code",
   "execution_count": 3,
   "id": "ac126e82",
   "metadata": {},
   "outputs": [
    {
     "name": "stdout",
     "output_type": "stream",
     "text": [
      "한글이빈다.\n"
     ]
    }
   ],
   "source": [
    "한글변수 = '한글이빈다.'\n",
    "print(한글변수)"
   ]
  },
  {
   "cell_type": "markdown",
   "id": "74cab0b3",
   "metadata": {},
   "source": [
    "4. 영문과 숫자를 혼합해 작성할 수 있다. 하지만 숫자를 가장 앞에 작성 할 수는 없다. <br>\n",
    "- 숫자로만 구성하는 것도 불가능"
   ]
  },
  {
   "cell_type": "code",
   "execution_count": null,
   "id": "b676431d",
   "metadata": {},
   "outputs": [],
   "source": []
  },
  {
   "cell_type": "markdown",
   "id": "2a26ae4b",
   "metadata": {},
   "source": [
    "5. 언더바(_)를 제외한 특수 문자는 사용 불가하다."
   ]
  },
  {
   "cell_type": "code",
   "execution_count": null,
   "id": "6d3fcd6e",
   "metadata": {},
   "outputs": [],
   "source": []
  },
  {
   "cell_type": "markdown",
   "id": "8cbbad9a",
   "metadata": {},
   "source": [
    "6. 파이썬 예약어(if, else, for, while, ... )을 사용할 수 없다."
   ]
  },
  {
   "cell_type": "code",
   "execution_count": 4,
   "id": "56fec4d9",
   "metadata": {},
   "outputs": [
    {
     "ename": "SyntaxError",
     "evalue": "invalid syntax (3288608619.py, line 1)",
     "output_type": "error",
     "traceback": [
      "  \u001b[36mCell\u001b[39m\u001b[36m \u001b[39m\u001b[32mIn[4]\u001b[39m\u001b[32m, line 1\u001b[39m\n\u001b[31m    \u001b[39m\u001b[31mif = 'hdwia'\u001b[39m\n       ^\n\u001b[31mSyntaxError\u001b[39m\u001b[31m:\u001b[39m invalid syntax\n"
     ]
    }
   ],
   "source": [
    "if = 'hdwia'"
   ]
  },
  {
   "cell_type": "code",
   "execution_count": null,
   "id": "12fbe73d",
   "metadata": {},
   "outputs": [],
   "source": []
  }
 ],
 "metadata": {
  "kernelspec": {
   "display_name": "helloworld",
   "language": "python",
   "name": "python3"
  },
  "language_info": {
   "codemirror_mode": {
    "name": "ipython",
    "version": 3
   },
   "file_extension": ".py",
   "mimetype": "text/x-python",
   "name": "python",
   "nbconvert_exporter": "python",
   "pygments_lexer": "ipython3",
   "version": "3.11.14"
  }
 },
 "nbformat": 4,
 "nbformat_minor": 5
}
