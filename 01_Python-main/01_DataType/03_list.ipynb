{
 "cells": [
  {
   "cell_type": "markdown",
   "id": "91861dbe",
   "metadata": {},
   "source": [
    "# 03. 리스트(List)\n",
    "---\n",
    "## 리스트 개요\n",
    "### 리스트란?\n",
    "* 일련의 값이 모인 집합을 다루기 위한 자료형, python은 배열과 같은 표현식을 쓰지만, 일반적인 프로그래밍 언어와 다르게,   \n",
    " 길이를 동적으로 조절 할 수 있어 list라고 부른다.\n",
    "\n",
    "### 리스트 표현식\n",
    "```\n",
    "리스트명 = ['값1', '값2', ...]\n",
    "```\n",
    "- List의 각 요소의 자료형은 무엇이든 될 수 있으며, 서로 다른 자료형이어도 괜찮다.\n",
    "- List에 저장되는 요소들은 0부터 시작하는 인덱스 체계로 구분해서 저장된다."
   ]
  },
  {
   "cell_type": "markdown",
   "id": "aeec1d31",
   "metadata": {},
   "source": [
    "### 리스트 연산"
   ]
  },
  {
   "cell_type": "markdown",
   "id": "d5b7c164",
   "metadata": {},
   "source": [
    "**리스트 합치기**\n",
    "- 리스트 간 + 연산자를 이용하여 하나로 합칠 수 있다."
   ]
  },
  {
   "cell_type": "code",
   "execution_count": 1,
   "id": "e0505d72",
   "metadata": {},
   "outputs": [
    {
     "name": "stdout",
     "output_type": "stream",
     "text": [
      "a\n"
     ]
    }
   ],
   "source": [
    "text = 'a'\n",
    "\n",
    "print(text)"
   ]
  },
  {
   "cell_type": "code",
   "execution_count": 2,
   "id": "bd22b7d5",
   "metadata": {},
   "outputs": [
    {
     "name": "stdout",
     "output_type": "stream",
     "text": [
      "['a', 'b', 'c', 'd', 'e', 'f', 'g']\n"
     ]
    }
   ],
   "source": [
    "alpha = ['a', 'b', 'c', 'd']\n",
    "alpha2 = ['e', 'f', 'g']\n",
    "\n",
    "print(alpha + alpha2)"
   ]
  },
  {
   "cell_type": "markdown",
   "id": "54f72a2c",
   "metadata": {},
   "source": [
    "**리스트 반복**\n",
    "- 리스트에 * 연산을 하면 요소를 반복 할 수 있다."
   ]
  },
  {
   "cell_type": "code",
   "execution_count": 3,
   "id": "a018075b",
   "metadata": {},
   "outputs": [
    {
     "name": "stdout",
     "output_type": "stream",
     "text": [
      "['e', 'f', 'g', 'e', 'f', 'g']\n"
     ]
    }
   ],
   "source": [
    "print(alpha2 *2)"
   ]
  },
  {
   "cell_type": "markdown",
   "id": "10bfb3d4",
   "metadata": {},
   "source": [
    "### 리스트 메서드"
   ]
  },
  {
   "cell_type": "code",
   "execution_count": 7,
   "id": "2219957a",
   "metadata": {},
   "outputs": [],
   "source": [
    "fruits = ['orange', 'apple', 'pear', 'pear', 'kiwi']"
   ]
  },
  {
   "cell_type": "code",
   "execution_count": 8,
   "id": "26bb4316",
   "metadata": {},
   "outputs": [
    {
     "data": {
      "text/plain": [
       "2"
      ]
     },
     "execution_count": 8,
     "metadata": {},
     "output_type": "execute_result"
    }
   ],
   "source": [
    "fruits.count('pear')"
   ]
  },
  {
   "cell_type": "markdown",
   "id": "e44ca493",
   "metadata": {},
   "source": [
    "**count()**\n",
    "- count(값)은 리스트에 인자로 준 값이 몇개 존재하는지 확인하여 그 수를 반환한다."
   ]
  },
  {
   "cell_type": "markdown",
   "id": "91d825c0",
   "metadata": {},
   "source": [
    "**index()**\n",
    "- index(값)은 리스트에서 인자로 준 값이 몇번째 인덱스에 존재하는지 확인하여 그인덱스를 반환한다.\n",
    "- 같은 값이 리스트 내에 여러 개 존재하면 가장 처음에 등장하는 값의 인덱스를 반환한다."
   ]
  },
  {
   "cell_type": "code",
   "execution_count": 11,
   "id": "d3f92e93",
   "metadata": {},
   "outputs": [
    {
     "data": {
      "text/plain": [
       "4"
      ]
     },
     "execution_count": 11,
     "metadata": {},
     "output_type": "execute_result"
    }
   ],
   "source": [
    "fruits.index('kiwi')"
   ]
  },
  {
   "cell_type": "code",
   "execution_count": 13,
   "id": "5afe193c",
   "metadata": {},
   "outputs": [
    {
     "name": "stdout",
     "output_type": "stream",
     "text": [
      "['orange', 'apple', 'pear', 'pear', 'kiwi']\n"
     ]
    }
   ],
   "source": [
    "fruits.reverse()\n",
    "\n",
    "print(fruits)"
   ]
  },
  {
   "cell_type": "markdown",
   "id": "548423fb",
   "metadata": {},
   "source": [
    "**reverse()**\n",
    "- reverse()는 list의 값을 역으로 정렬한다."
   ]
  },
  {
   "cell_type": "markdown",
   "id": "d6fbd1a0",
   "metadata": {},
   "source": [
    "**append()**\n",
    "- append(값)은 list에 값을 덧붙여 추가한다."
   ]
  },
  {
   "cell_type": "code",
   "execution_count": null,
   "id": "a5b62d8d",
   "metadata": {},
   "outputs": [],
   "source": []
  },
  {
   "cell_type": "markdown",
   "id": "73a9e3cc",
   "metadata": {},
   "source": [
    "**extend()**\n",
    "- extend(리스트)는 리스트에 리스트를 덧붙여 추가한다.\n",
    "\n"
   ]
  },
  {
   "cell_type": "code",
   "execution_count": null,
   "id": "e6aacc2b",
   "metadata": {},
   "outputs": [],
   "source": []
  },
  {
   "cell_type": "markdown",
   "id": "bf2189a9",
   "metadata": {},
   "source": [
    "**insert()**\n",
    "- insert(위치, 값)은 리스트의 특정 위치에 값을 삽입한다."
   ]
  },
  {
   "cell_type": "code",
   "execution_count": 14,
   "id": "5013fb64",
   "metadata": {},
   "outputs": [
    {
     "name": "stdout",
     "output_type": "stream",
     "text": [
      "['orange', 'monkey', 'apple', 'pear', 'pear', 'kiwi']\n"
     ]
    }
   ],
   "source": [
    "fruits.insert(1,'monkey')\n",
    "\n",
    "print(fruits)"
   ]
  },
  {
   "cell_type": "markdown",
   "id": "dd874d34",
   "metadata": {},
   "source": [
    "**sort()**\n",
    "- 요소를 정렬하는 메서드로 원본 list에 영향을 준다.\n",
    "- 기본적으로 숫자 오름차순, 알파벳의 첫 글자를 기준으로 오름차순 정렬한다."
   ]
  },
  {
   "cell_type": "code",
   "execution_count": 16,
   "id": "8c348f39",
   "metadata": {},
   "outputs": [
    {
     "name": "stdout",
     "output_type": "stream",
     "text": [
      "['apple', 'kiwi', 'monkey', 'orange', 'pear', 'pear']\n"
     ]
    }
   ],
   "source": [
    "fruits.sort()\n",
    "\n",
    "print(fruits)"
   ]
  },
  {
   "cell_type": "markdown",
   "id": "38d1a144",
   "metadata": {},
   "source": [
    "매개변수로 다양한 옵션을 주어 다른 기준으로 정렬할 수 있다."
   ]
  },
  {
   "cell_type": "code",
   "execution_count": 17,
   "id": "6b8814fa",
   "metadata": {},
   "outputs": [
    {
     "name": "stdout",
     "output_type": "stream",
     "text": [
      "['pear', 'pear', 'orange', 'monkey', 'kiwi', 'apple']\n"
     ]
    }
   ],
   "source": [
    "fruits.sort(reverse=True)\n",
    "print(fruits)"
   ]
  },
  {
   "cell_type": "code",
   "execution_count": null,
   "id": "cd7be91f",
   "metadata": {},
   "outputs": [],
   "source": []
  }
 ],
 "metadata": {
  "kernelspec": {
   "display_name": "helloworld",
   "language": "python",
   "name": "python3"
  },
  "language_info": {
   "codemirror_mode": {
    "name": "ipython",
    "version": 3
   },
   "file_extension": ".py",
   "mimetype": "text/x-python",
   "name": "python",
   "nbconvert_exporter": "python",
   "pygments_lexer": "ipython3",
   "version": "3.11.14"
  }
 },
 "nbformat": 4,
 "nbformat_minor": 5
}
