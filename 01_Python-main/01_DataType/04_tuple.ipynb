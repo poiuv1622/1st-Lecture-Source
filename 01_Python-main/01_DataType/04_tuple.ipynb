{
 "cells": [
  {
   "cell_type": "markdown",
   "metadata": {},
   "source": [
    "# 04. 튜플 (Tuple)\n",
    "---\n",
    "## 튜플 개요\n",
    "### 튜플이란?\n",
    "* 여러개의 값을 하나의 변수에 저장할 수 있는 자료구조이다.\n",
    "* 튜플은 한번 생성되면 그 값을 변경 할 수 없다.\n",
    "\n",
    "### 튜플 표현식\n",
    "* 튜플은 소괄호를 사용하거나 사용하지 않고 생성할 수 있으며, 생성된 이후에는 그 값을 변경 할 수 없다.\n",
    "```\n",
    "튜플명 = ('값1', '값2', ...)\n",
    "```"
   ]
  },
  {
   "cell_type": "code",
   "execution_count": 1,
   "metadata": {},
   "outputs": [
    {
     "name": "stdout",
     "output_type": "stream",
     "text": [
      "(1, 2, 3)\n"
     ]
    }
   ],
   "source": [
    "tuples = (1,2,3)\n",
    "\n",
    "print(tuples)"
   ]
  },
  {
   "cell_type": "markdown",
   "metadata": {},
   "source": [
    "## 튜플 연산\n",
    "### 불변 객체\n",
    "* 튜플은 불변 객체이므로 요소 값을 한번 할당하면, 추가, 수정, 삭제가 불가하다.\n",
    "* 이때 값을 재할당하면 값이 다시 입력될 수 있는데, <br>\n",
    "기존의 변수에 값이 재할당 되는 것이 아닌, 새로운 변수가 생성되는 것"
   ]
  },
  {
   "cell_type": "code",
   "execution_count": null,
   "metadata": {},
   "outputs": [],
   "source": []
  },
  {
   "cell_type": "markdown",
   "metadata": {},
   "source": [
    "### 튜플간 연산"
   ]
  },
  {
   "cell_type": "code",
   "execution_count": 2,
   "metadata": {},
   "outputs": [
    {
     "name": "stdout",
     "output_type": "stream",
     "text": [
      "('a', 'b', 'c', 'c', 'd', 'e', 'f')\n"
     ]
    }
   ],
   "source": [
    "abc = ('a', 'b', 'c')\n",
    "cdef = ('c', 'd', 'e', 'f')\n",
    "\n",
    "print(abc + cdef)"
   ]
  },
  {
   "cell_type": "code",
   "execution_count": null,
   "metadata": {},
   "outputs": [],
   "source": []
  }
 ],
 "metadata": {
  "kernelspec": {
   "display_name": "helloworld",
   "language": "python",
   "name": "python3"
  },
  "language_info": {
   "codemirror_mode": {
    "name": "ipython",
    "version": 3
   },
   "file_extension": ".py",
   "mimetype": "text/x-python",
   "name": "python",
   "nbconvert_exporter": "python",
   "pygments_lexer": "ipython3",
   "version": "3.11.14"
  }
 },
 "nbformat": 4,
 "nbformat_minor": 2
}
