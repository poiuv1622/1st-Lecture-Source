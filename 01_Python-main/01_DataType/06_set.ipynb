{
 "cells": [
  {
   "cell_type": "markdown",
   "metadata": {},
   "source": [
    "# 06. Set\n",
    "---\n",
    "##  Set 개요\n",
    "### Set이란?\n",
    "* 중복된 요소를 허용하지 않으며 순서 없이 요소를 저장하는 자료형\n",
    "* 중복제거가 필요할때 유용하게 사용한다.\n",
    "* **중괄호{}** 를 사용해서 집합을 생성한다\n"
   ]
  },
  {
   "cell_type": "code",
   "execution_count": 1,
   "metadata": {},
   "outputs": [],
   "source": [
    "safari = {'bear','tiger','gorilla','cat'}"
   ]
  },
  {
   "cell_type": "markdown",
   "metadata": {},
   "source": [
    "* set() 을 사용해 형변환도 가능하다."
   ]
  },
  {
   "cell_type": "code",
   "execution_count": 2,
   "metadata": {},
   "outputs": [
    {
     "name": "stdout",
     "output_type": "stream",
     "text": [
      "['monkey', 'bear', 'tiger', 'tiger']\n",
      "{'monkey', 'tiger', 'bear'}\n"
     ]
    }
   ],
   "source": [
    "safari2 = ['monkey','bear','tiger','tiger']\n",
    "print(safari2)\n",
    "print(set(safari2))"
   ]
  },
  {
   "cell_type": "markdown",
   "metadata": {},
   "source": [
    "### Set의 특징\n",
    "\n",
    "- 순서가 없는 자료형이며, 순서가 없으므로 인덱스를 사용한 접근이 불가하다."
   ]
  },
  {
   "cell_type": "code",
   "execution_count": null,
   "metadata": {},
   "outputs": [],
   "source": []
  },
  {
   "cell_type": "markdown",
   "metadata": {},
   "source": [
    "- 중복을 허용하지 않으므로 동일한 값은 하나만 저장한다."
   ]
  },
  {
   "cell_type": "code",
   "execution_count": null,
   "metadata": {},
   "outputs": [],
   "source": []
  },
  {
   "cell_type": "markdown",
   "metadata": {},
   "source": [
    "- 가변성을 가진 자료형으로 데이터(요소)를 추가하거나 제거 할 수 있다.\n",
    "    - 순서가 없는 자료형이기 때문에 특정 요소에 접근할 수 없어, 직접 변경이 불가능"
   ]
  },
  {
   "cell_type": "code",
   "execution_count": 5,
   "metadata": {},
   "outputs": [
    {
     "name": "stdout",
     "output_type": "stream",
     "text": [
      "{'tiger', 'gorilla', 'cat'}\n"
     ]
    }
   ],
   "source": [
    "safari = {'bear','tiger','gorilla','cat'}\n",
    "\n",
    "safari.remove('bear')\n",
    "print(safari)\n",
    "\n",
    "safari.add('mouse')"
   ]
  },
  {
   "cell_type": "markdown",
   "metadata": {},
   "source": [
    "4. in 키워드를 통해 포함 여부를 반환받을 수 있다."
   ]
  },
  {
   "cell_type": "code",
   "execution_count": 6,
   "metadata": {},
   "outputs": [
    {
     "name": "stdout",
     "output_type": "stream",
     "text": [
      "True\n"
     ]
    }
   ],
   "source": [
    "print('mouse' in safari)"
   ]
  },
  {
   "cell_type": "code",
   "execution_count": 7,
   "metadata": {},
   "outputs": [
    {
     "name": "stdout",
     "output_type": "stream",
     "text": [
      "{'mouse', 'tiger', 'gorilla'}\n"
     ]
    }
   ],
   "source": [
    "safari.pop()\n",
    "print(safari)"
   ]
  },
  {
   "cell_type": "markdown",
   "metadata": {},
   "source": [
    "---\n",
    "# 06-02. Set의 메서드\n",
    "### 요소를 추가하는 메서드\n",
    "\n",
    "1. add()\n",
    " * set에 새로운 단일 요소를 추가한다."
   ]
  },
  {
   "cell_type": "code",
   "execution_count": null,
   "metadata": {},
   "outputs": [],
   "source": []
  },
  {
   "cell_type": "markdown",
   "metadata": {},
   "source": [
    "2. update()\n",
    "* set에 여러 요소를 추가할 수 있다.\n",
    "* 리스트, 튜플, 문자열 등에서 요소를 가져와 추가할 수 있다."
   ]
  },
  {
   "cell_type": "code",
   "execution_count": null,
   "metadata": {},
   "outputs": [],
   "source": []
  },
  {
   "cell_type": "markdown",
   "metadata": {},
   "source": [
    "### 요소를 제거하는 메서드\n",
    "**remove()**\n",
    "* set에서 특정 요소를 제거하는데 사용된다.\n",
    "* 존재하지 않는 요소를 지우려 했을때 에러가 발생한다."
   ]
  },
  {
   "cell_type": "code",
   "execution_count": null,
   "metadata": {},
   "outputs": [],
   "source": []
  },
  {
   "cell_type": "markdown",
   "metadata": {},
   "source": [
    "**discard()**\n",
    "* set에서 특정요소를 제거하는데 사용되는 메서드\n",
    "* remove()달리 특정요소가 집합에 존재하지 않아도 에러를 발생시키지 않음"
   ]
  },
  {
   "cell_type": "code",
   "execution_count": null,
   "metadata": {},
   "outputs": [],
   "source": []
  },
  {
   "cell_type": "markdown",
   "metadata": {},
   "source": [
    "**pop()**\n",
    "* 임의의 요소를 제거하고 그 값을 반환하는 메서드\n",
    "* (set은 순서가 없기때문에 어떤요소가 삭제될지는 모른다.)\n",
    "* 집합이 비엇을때 error가 발생한다."
   ]
  },
  {
   "cell_type": "code",
   "execution_count": null,
   "metadata": {},
   "outputs": [],
   "source": []
  },
  {
   "cell_type": "markdown",
   "metadata": {},
   "source": [
    "**clear()**\n",
    "* 모든 요소를 제거하고 빈 set으로 만드는 메서드"
   ]
  },
  {
   "cell_type": "code",
   "execution_count": null,
   "metadata": {},
   "outputs": [],
   "source": []
  },
  {
   "cell_type": "markdown",
   "metadata": {},
   "source": [
    "---\n",
    "### 집합 연산 메서드\n",
    "\n",
    "**union()**\n",
    "\n",
    "* 두개 이상의 집합을 합쳐서 새로운 집합을 반환하는 메서드 (합집합)\n",
    "* 중복된 요소를 제거, 모든 요소를 포함하는 새로운 집합을 만든다."
   ]
  },
  {
   "cell_type": "code",
   "execution_count": null,
   "metadata": {},
   "outputs": [],
   "source": []
  },
  {
   "cell_type": "markdown",
   "metadata": {},
   "source": [
    "**intersection()**\n",
    "* 두개 이상의 집합에서 공통된 요소만을 포함하는 새로운 집합을 반환 (교집합)"
   ]
  },
  {
   "cell_type": "code",
   "execution_count": null,
   "metadata": {},
   "outputs": [],
   "source": []
  },
  {
   "cell_type": "markdown",
   "metadata": {},
   "source": [
    "**difference()**\n",
    "* 첫번째 집합에는 포함되지만 두번째 집합에는 포함되지 않는 새로운 집합을 반환 (차집합)"
   ]
  },
  {
   "cell_type": "code",
   "execution_count": null,
   "metadata": {},
   "outputs": [],
   "source": []
  },
  {
   "cell_type": "markdown",
   "metadata": {},
   "source": [
    "**symmentic_difference()**\n",
    "* 합집합에서 교집합을 뺀 결과\n",
    "* 두집합중 어느 한쪽만 포함된 요소들로 구성된 새로운 집합을 반환하는 메서드"
   ]
  },
  {
   "cell_type": "code",
   "execution_count": null,
   "metadata": {},
   "outputs": [],
   "source": []
  },
  {
   "cell_type": "markdown",
   "metadata": {},
   "source": [
    "### 복사 메서드\n",
    "**copy()**\n",
    "* 기존 집합의 복사본을 생성한다. "
   ]
  },
  {
   "cell_type": "code",
   "execution_count": null,
   "metadata": {},
   "outputs": [],
   "source": []
  }
 ],
 "metadata": {
  "kernelspec": {
   "display_name": "helloworld",
   "language": "python",
   "name": "python3"
  },
  "language_info": {
   "codemirror_mode": {
    "name": "ipython",
    "version": 3
   },
   "file_extension": ".py",
   "mimetype": "text/x-python",
   "name": "python",
   "nbconvert_exporter": "python",
   "pygments_lexer": "ipython3",
   "version": "3.11.14"
  }
 },
 "nbformat": 4,
 "nbformat_minor": 2
}
