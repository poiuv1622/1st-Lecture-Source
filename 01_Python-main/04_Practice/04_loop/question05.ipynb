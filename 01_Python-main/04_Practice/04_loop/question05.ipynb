{
 "cells": [
  {
   "cell_type": "markdown",
   "metadata": {},
   "source": [
    "## **문제 6: 커피 만들기**\n",
    "\n",
    "**\"주문받은 커피를 몇 잔 만들까?\"**\n",
    "\n",
    "다람쥐는 주문받은 커피의 수량을 만들려고 합니다.\n",
    "\n",
    "1. `for-range`를 사용해 숫자 `1`부터 `5`까지의 커피 번호를 반복하세요.\n",
    "2. 각 커피마다 **\"[커피 번호]번째 커피를 만들고 있습니다.\"**를 출력하세요."
   ]
  }
 ],
 "metadata": {
  "kernelspec": {
   "display_name": "pystudy_env",
   "language": "python",
   "name": "python3"
  },
  "language_info": {
   "codemirror_mode": {
    "name": "ipython",
    "version": 3
   },
   "file_extension": ".py",
   "mimetype": "text/x-python",
   "name": "python",
   "nbconvert_exporter": "python",
   "pygments_lexer": "ipython3",
   "version": "3.12.8"
  }
 },
 "nbformat": 4,
 "nbformat_minor": 2
}
