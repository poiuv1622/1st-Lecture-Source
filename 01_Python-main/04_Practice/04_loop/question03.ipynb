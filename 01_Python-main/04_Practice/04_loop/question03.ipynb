{
 "cells": [
  {
   "cell_type": "markdown",
   "metadata": {},
   "source": [
    "## **문제 3: 청소하기**\n",
    "\n",
    "**\"일이 끝난 후, 다람쥐는 테이블을 청소해야 한다.\"**\n",
    "\n",
    "다람쥐는 카페의 테이블을 하나씩 청소합니다.\n",
    "\n",
    "1. 테이블 리스트 `tables`에 숫자 `1`부터 `5`까지의 테이블 번호가 있습니다.\n",
    "2. `for`문을 사용하여 **각 테이블을 청소하는 메시지를 출력하세요.**\n",
    "    - **\"[n번 테이블] 청소 완료!\"**"
   ]
  }
 ],
 "metadata": {
  "kernelspec": {
   "display_name": "pystudy_env",
   "language": "python",
   "name": "python3"
  },
  "language_info": {
   "codemirror_mode": {
    "name": "ipython",
    "version": 3
   },
   "file_extension": ".py",
   "mimetype": "text/x-python",
   "name": "python",
   "nbconvert_exporter": "python",
   "pygments_lexer": "ipython3",
   "version": "3.12.8"
  }
 },
 "nbformat": 4,
 "nbformat_minor": 2
}
