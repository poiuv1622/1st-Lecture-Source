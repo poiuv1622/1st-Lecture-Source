{
 "cells": [
  {
   "cell_type": "markdown",
   "metadata": {},
   "source": [
    "## **문제 1: 손님 응대하기**\n",
    "\n",
    "**\"다람쥐는 카페에서 아르바이트를 시작했다.\"**\n",
    "\n",
    "다람쥐는 손님들에게 인사를 해야 합니다.\n",
    "\n",
    "1. 손님 리스트 `customers`에 다음과 같은 손님들이 있습니다.\n",
    "    - `'토끼', '곰', '여우', '호랑이'`\n",
    "2. `for`문을 사용하여 **각 손님에게 다음과 같은 메시지를 출력하세요**:\n",
    "    - **\"안녕하세요, [손님 이름]님! 무엇을 도와드릴까요?\"**"
   ]
  }
 ],
 "metadata": {
  "kernelspec": {
   "display_name": "pystudy_env",
   "language": "python",
   "name": "python3"
  },
  "language_info": {
   "codemirror_mode": {
    "name": "ipython",
    "version": 3
   },
   "file_extension": ".py",
   "mimetype": "text/x-python",
   "name": "python",
   "nbconvert_exporter": "python",
   "pygments_lexer": "ipython3",
   "version": "3.12.8"
  }
 },
 "nbformat": 4,
 "nbformat_minor": 2
}
