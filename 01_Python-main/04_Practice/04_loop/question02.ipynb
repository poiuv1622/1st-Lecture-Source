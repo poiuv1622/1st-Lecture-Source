{
 "cells": [
  {
   "cell_type": "markdown",
   "metadata": {},
   "source": [
    "## **문제 2: 메뉴 준비하기**\n",
    "\n",
    "**\"다람쥐는 주문받은 음료를 준비해야 한다.\"**\n",
    "\n",
    "다람쥐는 손님들이 주문한 음료를 준비합니다.\n",
    "\n",
    "1. 주문 리스트 `orders`에 다음 음료가 있습니다.\n",
    "    - `'아메리카노', '카페라떼', '핫초코'`\n",
    "2. `for`문을 사용하여 **각 음료를 준비하는 메시지를 출력하세요**:\n",
    "    - **\"[음료 이름]를 준비 중입니다...\"**"
   ]
  }
 ],
 "metadata": {
  "kernelspec": {
   "display_name": "pystudy_env",
   "language": "python",
   "name": "python3"
  },
  "language_info": {
   "codemirror_mode": {
    "name": "ipython",
    "version": 3
   },
   "file_extension": ".py",
   "mimetype": "text/x-python",
   "name": "python",
   "nbconvert_exporter": "python",
   "pygments_lexer": "ipython3",
   "version": "3.12.8"
  }
 },
 "nbformat": 4,
 "nbformat_minor": 2
}
