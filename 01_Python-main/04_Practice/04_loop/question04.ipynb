{
 "cells": [
  {
   "cell_type": "markdown",
   "metadata": {},
   "source": [
    "## **문제 4: 시간 기록하기**\n",
    "\n",
    "**\"다람쥐는 출근한 후 시간마다 일을 기록해야 한다.\"**\n",
    "\n",
    "다람쥐는 9시부터 12시까지 1시간마다 기록을 남깁니다.\n",
    "\n",
    "1. `for-range`를 사용하여 9부터 12까지의 시간을 반복하세요.\n",
    "2. 각 시간마다 **\"현재 시간: [시간]시, 근무 기록합니다.\"**를 출력하세요."
   ]
  }
 ],
 "metadata": {
  "kernelspec": {
   "display_name": "pystudy_env",
   "language": "python",
   "name": "python3"
  },
  "language_info": {
   "codemirror_mode": {
    "name": "ipython",
    "version": 3
   },
   "file_extension": ".py",
   "mimetype": "text/x-python",
   "name": "python",
   "nbconvert_exporter": "python",
   "pygments_lexer": "ipython3",
   "version": "3.12.8"
  }
 },
 "nbformat": 4,
 "nbformat_minor": 2
}
