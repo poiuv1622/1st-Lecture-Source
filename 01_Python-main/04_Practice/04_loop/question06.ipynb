{
 "cells": [
  {
   "cell_type": "markdown",
   "metadata": {},
   "source": [
    "## **문제 7: 테이블 청소하기**\n",
    "\n",
    "**\"곰은 가게를 닫기 전에 테이블을 모두 청소해야 한다.\"**\n",
    "\n",
    "곰은 5번 테이블까지 순서대로 청소해야 합니다.\n",
    "\n",
    "1. `while`문을 사용하여 `1`번부터 `5`번 테이블을 청소하세요.\n",
    "2. 각 테이블마다 **\"[n번 테이블] 청소 완료!\"**를 출력하세요.\n",
    "3. 5번째 테이블까지 다 닦았으면, **\"퇴근~!\"** 을 출력하세요."
   ]
  }
 ],
 "metadata": {
  "kernelspec": {
   "display_name": "pystudy_env",
   "language": "python",
   "name": "python3"
  },
  "language_info": {
   "codemirror_mode": {
    "name": "ipython",
    "version": 3
   },
   "file_extension": ".py",
   "mimetype": "text/x-python",
   "name": "python",
   "nbconvert_exporter": "python",
   "pygments_lexer": "ipython3",
   "version": "3.12.8"
  }
 },
 "nbformat": 4,
 "nbformat_minor": 2
}
