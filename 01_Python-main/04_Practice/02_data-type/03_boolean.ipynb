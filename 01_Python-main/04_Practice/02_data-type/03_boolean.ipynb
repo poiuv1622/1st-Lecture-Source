{
 "cells": [
  {
   "cell_type": "markdown",
   "metadata": {},
   "source": [
    "### 다음 조건에 맞게 boolean값이 나오도록 작성해보세요.\n",
    "\n",
    "```python\n",
    "name = '곰'\n",
    "age = 20\n",
    "gender = 'male'\n",
    "\n",
    "\n",
    "# 1. 이름이 다람쥐이면 True\n",
    "\n",
    "# 2. 성인이면 True (19세 이상을 성인이라고 기준함)\n",
    "\n",
    "# 3. 성인이면서 여성이면 True\n",
    "\n",
    "# 4. 이름이 호랑이이면서 성인이면서 남성이면 True\n",
    "\n",
    "# 5. 이름이 다람쥐이거나 성인이면 True\n",
    "\n",
    "# 6. 이름이 다람쥐가 아니면 True (논리연산 not 이용)\n",
    "```"
   ]
  }
 ],
 "metadata": {
  "kernelspec": {
   "display_name": "pystudy_env",
   "language": "python",
   "name": "python3"
  },
  "language_info": {
   "codemirror_mode": {
    "name": "ipython",
    "version": 3
   },
   "file_extension": ".py",
   "mimetype": "text/x-python",
   "name": "python",
   "nbconvert_exporter": "python",
   "pygments_lexer": "ipython3",
   "version": "3.12.8"
  }
 },
 "nbformat": 4,
 "nbformat_minor": 2
}
