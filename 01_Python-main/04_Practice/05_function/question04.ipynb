{
 "cells": [
  {
   "cell_type": "markdown",
   "metadata": {},
   "source": [
    "## **문제 6: 업무 성과 분석하기**\n",
    "\n",
    "**\"다람쥐는 오늘의 업무 성과를 보고해야 한다.\"**\n",
    "\n",
    "1. `work_report(tasks_done)`이라는 함수를 만들어 오늘 처리한 업무 수를 매개변수로 받으세요.\n",
    "2. 함수는 다음 두 값을 반환합니다.\n",
    "    - `tasks_done`: 처리한 업무 수\n",
    "    - `status`: 업무 성과 평가 (10개 이상: \"우수\", 5~9개: \"보통\", 4개 이하: \"노력 필요\")\n",
    "3. 반환된 값을 사용해 다음 메시지를 출력하세요.\n",
    "    - **\"오늘 처리한 업무는 [업무 수]개입니다. 성과 평가: [평가]\"**"
   ]
  }
 ],
 "metadata": {
  "kernelspec": {
   "display_name": "pystudy_env",
   "language": "python",
   "name": "python3"
  },
  "language_info": {
   "codemirror_mode": {
    "name": "ipython",
    "version": 3
   },
   "file_extension": ".py",
   "mimetype": "text/x-python",
   "name": "python",
   "nbconvert_exporter": "python",
   "pygments_lexer": "ipython3",
   "version": "3.12.8"
  }
 },
 "nbformat": 4,
 "nbformat_minor": 2
}
