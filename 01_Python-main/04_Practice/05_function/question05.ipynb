{
 "cells": [
  {
   "cell_type": "markdown",
   "metadata": {},
   "source": [
    "## **문제 5: 월급 계산 및 세금 공제**\n",
    "\n",
    "**\"다람쥐는 첫 월급을 계산하고 세금을 공제해야 한다.\"**\n",
    "\n",
    "1. `calculate_salary(base_salary, bonus)`라는 함수를 만들어 기본 월급과 보너스를 매개변수로 받으세요.\n",
    "2. 총 월급을 계산하고, 세금은 총 월급의 10%로 공제하세요.\n",
    "3. 함수는 다음 두 값을 반환합니다.\n",
    "    - `net_salary`: 실수령액 (총 월급 - 세금)\n",
    "    - `tax`: 세금 공제액\n",
    "4. 반환된 값을 사용해 다음 메시지를 출력하세요.\n",
    "    - **\"세전 월급: [총 월급]원, 세금: [세금]원, 실수령액: [실수령액]원\"**"
   ]
  }
 ],
 "metadata": {
  "kernelspec": {
   "display_name": "pystudy_env",
   "language": "python",
   "name": "python3"
  },
  "language_info": {
   "codemirror_mode": {
    "name": "ipython",
    "version": 3
   },
   "file_extension": ".py",
   "mimetype": "text/x-python",
   "name": "python",
   "nbconvert_exporter": "python",
   "pygments_lexer": "ipython3",
   "version": "3.12.8"
  }
 },
 "nbformat": 4,
 "nbformat_minor": 2
}
