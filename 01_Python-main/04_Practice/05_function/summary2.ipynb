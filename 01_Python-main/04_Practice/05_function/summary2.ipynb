{
 "cells": [
  {
   "cell_type": "markdown",
   "metadata": {},
   "source": [
    "### 조건문\n",
    "\n",
    "```python\n",
    "\n",
    "if [조건식]:\n",
    "    [실행할 코드]\n",
    "\n",
    "```"
   ]
  },
  {
   "cell_type": "code",
   "execution_count": 5,
   "metadata": {},
   "outputs": [
    {
     "name": "stdout",
     "output_type": "stream",
     "text": [
      "Not bad\n"
     ]
    }
   ],
   "source": [
    "score = 83\n",
    "\n",
    "if score >= 85:\n",
    "    print(\"Good\")\n",
    "elif score > 80:\n",
    "    print(\"Not bad\")\n",
    "else:\n",
    "    print(\"Bad\")"
   ]
  },
  {
   "cell_type": "code",
   "execution_count": 8,
   "metadata": {},
   "outputs": [
    {
     "name": "stdout",
     "output_type": "stream",
     "text": [
      "그저그런 날입니다.\n"
     ]
    }
   ],
   "source": [
    "day = '금요일'\n",
    "\n",
    "match day:\n",
    "    case '월요일':\n",
    "        print('월요일입니다.')\n",
    "    case '화요일':\n",
    "        print('화요일입니다.')\n",
    "    case '수요일':\n",
    "        print('수요일입니다.')\n",
    "    case _:\n",
    "        print('그저그런 날입니다.')"
   ]
  },
  {
   "cell_type": "markdown",
   "metadata": {},
   "source": [
    "### for 문\n",
    "\n",
    "```python\n",
    "for [변수] in [반복가능한객체]:\n",
    "    [반복시킬 문장]"
   ]
  },
  {
   "cell_type": "code",
   "execution_count": 12,
   "metadata": {},
   "outputs": [
    {
     "name": "stdout",
     "output_type": "stream",
     "text": [
      "num은 1 입니다.\n",
      "num은 2 입니다.\n",
      "num은 3 입니다.\n",
      "num은 4 입니다.\n",
      "num은 5 입니다.\n"
     ]
    }
   ],
   "source": [
    "list = [1,2,3,4,5]\n",
    "\n",
    "for num in list:\n",
    "    print(f\"num은 {num} 입니다.\")"
   ]
  },
  {
   "cell_type": "markdown",
   "metadata": {},
   "source": [
    "### While\n",
    "```python\n",
    "\n",
    "while [조건식]\n",
    "    [반복할 코드]"
   ]
  },
  {
   "cell_type": "code",
   "execution_count": 14,
   "metadata": {},
   "outputs": [
    {
     "name": "stdout",
     "output_type": "stream",
     "text": [
      "카운트 : 0\n",
      "카운트 : 1\n",
      "카운트 : 2\n"
     ]
    }
   ],
   "source": [
    "count = 0\n",
    "\n",
    "while count < 3:\n",
    "    print(f'카운트 : {count}')\n",
    "\n",
    "    count += 1"
   ]
  },
  {
   "cell_type": "code",
   "execution_count": 3,
   "metadata": {},
   "outputs": [
    {
     "name": "stdout",
     "output_type": "stream",
     "text": [
      "입력하신 숫자는 1 입니다.\n",
      "입력하신 숫자는 2 입니다.\n",
      "입력하신 숫자는 4 입니다.\n",
      "입력하신 숫자는 5 입니다.\n"
     ]
    }
   ],
   "source": [
    "count = 0\n",
    "\n",
    "while True:\n",
    "\n",
    "    num = input('숫자를 입력하세요.') # input은 사용자가 입력한 문자열값을 반환\n",
    "\n",
    "    if num == '3':\n",
    "        continue\n",
    "\n",
    "    print(f'입력하신 숫자는 {num} 입니다.')\n",
    "    if num == '5':\n",
    "        break # 분기문 break : 반복문을 완전히 종료"
   ]
  },
  {
   "cell_type": "code",
   "execution_count": null,
   "metadata": {},
   "outputs": [],
   "source": []
  }
 ],
 "metadata": {
  "kernelspec": {
   "display_name": "helloworld",
   "language": "python",
   "name": "python3"
  },
  "language_info": {
   "codemirror_mode": {
    "name": "ipython",
    "version": 3
   },
   "file_extension": ".py",
   "mimetype": "text/x-python",
   "name": "python",
   "nbconvert_exporter": "python",
   "pygments_lexer": "ipython3",
   "version": "3.11.14"
  }
 },
 "nbformat": 4,
 "nbformat_minor": 2
}
