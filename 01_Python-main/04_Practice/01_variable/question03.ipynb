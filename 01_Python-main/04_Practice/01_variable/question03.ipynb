{
 "cells": [
  {
   "cell_type": "markdown",
   "metadata": {},
   "source": [
    "### **문제 3**\n",
    "\n",
    "변수에 담긴 값을 다른 변수에 대입하는 연습을 해봅시다.\n",
    "\n",
    "1. `city`라는 변수에 **당신이 살고 있는 도시 이름**을 문자열로 저장하세요.\n",
    "2. `my_city`라는 변수에 `city` 변수의 값을 대입하세요.\n",
    "3. 두 변수를 각각 `print()`로 출력해보세요."
   ]
  }
 ],
 "metadata": {
  "kernelspec": {
   "display_name": "Python 3",
   "language": "python",
   "name": "python3"
  },
  "language_info": {
   "codemirror_mode": {
    "name": "ipython",
    "version": 3
   },
   "file_extension": ".py",
   "mimetype": "text/x-python",
   "name": "python",
   "nbconvert_exporter": "python",
   "pygments_lexer": "ipython3",
   "version": "3.12.11"
  }
 },
 "nbformat": 4,
 "nbformat_minor": 2
}
