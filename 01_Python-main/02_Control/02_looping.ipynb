{
 "cells": [
  {
   "cell_type": "markdown",
   "metadata": {},
   "source": [
    "# 02. 반복문\n",
    "---\n",
    "## 반복문 개요\n",
    "### 반복문이란?\n",
    "* 중복된 코드를 최소화하여 읽기 쉽고 유지보수가 용이한 코드를 작성하기 위해\n",
    "* 일정범위 또는 조건에 부합하는 경우 어떤 코드를 반복 수행하게 하는 구문"
   ]
  },
  {
   "cell_type": "markdown",
   "metadata": {},
   "source": [
    "## 반복문 for\n",
    "### for-in\n",
    "* 리스트, 튜플, 문자열 등의 각 요소를 순차적으로 접근해 반복 할 수 있다."
   ]
  },
  {
   "cell_type": "code",
   "execution_count": 2,
   "metadata": {},
   "outputs": [
    {
     "name": "stdout",
     "output_type": "stream",
     "text": [
      "pig\n",
      "bear\n",
      "gorilla\n",
      "tiger\n"
     ]
    }
   ],
   "source": [
    "safari = ['pig','bear','gorilla','tiger']\n",
    "\n",
    "for animal in safari:\n",
    "    print(animal)"
   ]
  },
  {
   "cell_type": "code",
   "execution_count": 3,
   "metadata": {},
   "outputs": [
    {
     "name": "stdout",
     "output_type": "stream",
     "text": [
      "H\n",
      "D\n",
      "W\n",
      "I\n",
      "A\n"
     ]
    }
   ],
   "source": [
    "for word in 'HDWIA':\n",
    "    print(word)"
   ]
  },
  {
   "cell_type": "code",
   "execution_count": null,
   "metadata": {},
   "outputs": [],
   "source": []
  },
  {
   "cell_type": "markdown",
   "metadata": {},
   "source": [
    "* for 키워드 활용"
   ]
  },
  {
   "cell_type": "code",
   "execution_count": 4,
   "metadata": {},
   "outputs": [
    {
     "name": "stdout",
     "output_type": "stream",
     "text": [
      "HK\n",
      "DK\n",
      "WK\n",
      "IK\n",
      "AK\n"
     ]
    }
   ],
   "source": [
    "for word in 'HDWIA':\n",
    "    print(word + 'K')"
   ]
  },
  {
   "cell_type": "markdown",
   "metadata": {},
   "source": [
    "### range()\n",
    "* range는 일련의 숫자를 반복해야하는 경우 사용하는 함수, 숫자 배열을 만들어서 for-in 사용하는 것과 같다.\n",
    "```python\n",
    "for 변수 in range(반복횟수):\n",
    "    (실행구문)\n",
    "```"
   ]
  },
  {
   "cell_type": "code",
   "execution_count": 7,
   "metadata": {},
   "outputs": [
    {
     "name": "stdout",
     "output_type": "stream",
     "text": [
      "5\n",
      "7\n"
     ]
    }
   ],
   "source": [
    "for i in range(5,9,2):\n",
    "    print(i)"
   ]
  },
  {
   "cell_type": "code",
   "execution_count": null,
   "metadata": {},
   "outputs": [],
   "source": []
  },
  {
   "cell_type": "code",
   "execution_count": null,
   "metadata": {},
   "outputs": [],
   "source": []
  },
  {
   "cell_type": "code",
   "execution_count": null,
   "metadata": {},
   "outputs": [],
   "source": []
  },
  {
   "cell_type": "markdown",
   "metadata": {},
   "source": [
    "### range() 함수의 특징\n",
    "1. 인덱스의 길이만큼 반복하려면 range()와 len()을 같이 사용 가능"
   ]
  },
  {
   "cell_type": "code",
   "execution_count": 8,
   "metadata": {},
   "outputs": [
    {
     "name": "stdout",
     "output_type": "stream",
     "text": [
      "0 i\n",
      "1 am\n",
      "2 a\n",
      "3 bear\n"
     ]
    }
   ],
   "source": [
    "introduce = ['i','am','a','bear']\n",
    "\n",
    "for i in range(len(introduce)):\n",
    "    print(i,introduce[i])"
   ]
  },
  {
   "cell_type": "markdown",
   "metadata": {},
   "source": [
    "2. range()를 단독 사용하면 그냥 텍스트로 출력됨"
   ]
  },
  {
   "cell_type": "code",
   "execution_count": null,
   "metadata": {},
   "outputs": [],
   "source": []
  },
  {
   "cell_type": "markdown",
   "metadata": {},
   "source": [
    "3. 연속적인 항목을 얻는 함수나 구성의 대상으로 많이 사용된다."
   ]
  },
  {
   "cell_type": "code",
   "execution_count": null,
   "metadata": {},
   "outputs": [],
   "source": []
  },
  {
   "cell_type": "markdown",
   "metadata": {},
   "source": [
    "### enumrate()\n",
    "\n",
    "- enumerate는 반복 가능한(iterable) 객체를 입력받아, 각 요소의 **순서(인덱스)** 와 값을 함께 돌려주는 함수입니다.\n",
    "- 반복작업을 하면서 **'몇번째 반복이지?'** 라는 정보가 필요할때 사용 할 수 있다."
   ]
  },
  {
   "cell_type": "code",
   "execution_count": null,
   "metadata": {},
   "outputs": [],
   "source": []
  },
  {
   "cell_type": "code",
   "execution_count": null,
   "metadata": {},
   "outputs": [],
   "source": []
  },
  {
   "cell_type": "code",
   "execution_count": null,
   "metadata": {},
   "outputs": [],
   "source": []
  },
  {
   "cell_type": "markdown",
   "metadata": {},
   "source": [
    "## 반복문 while\n",
    "### while\n",
    "* 조건이 true인 동안, 실행 구문을 계속해서 반복한다."
   ]
  },
  {
   "cell_type": "code",
   "execution_count": 9,
   "metadata": {},
   "outputs": [
    {
     "name": "stdout",
     "output_type": "stream",
     "text": [
      "1\n",
      "2\n",
      "3\n",
      "4\n",
      "5\n",
      "6\n",
      "7\n",
      "8\n",
      "9\n",
      "10\n"
     ]
    }
   ],
   "source": [
    "i = 1\n",
    "while i <= 10:\n",
    "    print(i)\n",
    "    i += 1"
   ]
  },
  {
   "cell_type": "markdown",
   "metadata": {},
   "source": [
    "---\n",
    "# 분기문\n",
    "### 분기문이란?\n",
    "* 반복문 내에서 조건문과 함께 작성되어, 반복문의 실행을 종료시키는 역할을 한다."
   ]
  },
  {
   "cell_type": "markdown",
   "metadata": {},
   "source": [
    "### break\n",
    "* 조건문 또는 반복문의 실행 구문에서 코드가 break를 만나면 해당 블록의 실행이 종료된다.\n",
    "\n",
    "(break 이후의 실행 구문이 실행되지 않고 종료되어 블록 바깥의 하단 코드가 실행된다.)"
   ]
  },
  {
   "cell_type": "code",
   "execution_count": 11,
   "metadata": {},
   "outputs": [
    {
     "name": "stdout",
     "output_type": "stream",
     "text": [
      "1 회차 시작\n",
      "1 회차 종료\n",
      "2 회차 시작\n",
      "중단!!!\n"
     ]
    }
   ],
   "source": [
    "for i in [1,2,3]:\n",
    "    print(f'{i} 회차 시작')\n",
    "\n",
    "    if i == 2:\n",
    "        print('중단!!!')\n",
    "        break;\n",
    "    print(f'{i} 회차 종료')"
   ]
  },
  {
   "cell_type": "markdown",
   "metadata": {},
   "source": [
    "### continue\n",
    "* 반복문의 실행구문에서 코드가 continue를 만나면 continue 이후의 블록 내 코드는 더이상 실행되지 않고\n",
    "다음반복으로 넘어간다."
   ]
  },
  {
   "cell_type": "code",
   "execution_count": null,
   "metadata": {},
   "outputs": [],
   "source": []
  }
 ],
 "metadata": {
  "kernelspec": {
   "display_name": "helloworld",
   "language": "python",
   "name": "python3"
  },
  "language_info": {
   "codemirror_mode": {
    "name": "ipython",
    "version": 3
   },
   "file_extension": ".py",
   "mimetype": "text/x-python",
   "name": "python",
   "nbconvert_exporter": "python",
   "pygments_lexer": "ipython3",
   "version": "3.11.14"
  }
 },
 "nbformat": 4,
 "nbformat_minor": 2
}
