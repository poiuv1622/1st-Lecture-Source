{
 "cells": [
  {
   "cell_type": "markdown",
   "metadata": {},
   "source": [
    "# 01. 조건문\n",
    "---\n",
    "## 조건문 개요\n",
    "### 조건문이란?\n",
    "* 조건에 따라 수행할 코드를 다르게 작성하는 방법으로, 파이썬 키워드를 사용하여 작성한다.\n",
    "* 조건문 작성에는 조건식이 필요하며, 조건식은 True 혹은 False의 결과를 내는 구문을 의미함."
   ]
  },
  {
   "cell_type": "code",
   "execution_count": null,
   "metadata": {},
   "outputs": [],
   "source": []
  },
  {
   "cell_type": "markdown",
   "metadata": {},
   "source": [
    "---\n",
    "## 조건문 if\n",
    "### if\n",
    "* if 키워드 뒤의 조건식의 결과 값이 참(True)이면 실행구문을 실행한다.\n",
    "* 파이썬에서는 조건식 뒤에 콜론을 붙이고 \"반드시\" 들여쓰기(공백4칸 또는 tap)로 실행구문을 식별할 수 있도록 작성해야한다.\n",
    "\n",
    "```python\n",
    "if 조건식:\n",
    "    (실행구문)\n",
    "```"
   ]
  },
  {
   "cell_type": "code",
   "execution_count": 5,
   "metadata": {},
   "outputs": [
    {
     "name": "stdout",
     "output_type": "stream",
     "text": [
      "우리 강사님은 bear 입니다.\n"
     ]
    }
   ],
   "source": [
    "teacher = 'bear'\n",
    "\n",
    "if teacher == 'tiger':\n",
    "    print('우리 강사님은 tiger 입니다.')\n",
    "elif teacher == 'bear':\n",
    "    print('우리 강사님은 bear 입니다.')\n",
    "else:\n",
    "    print('우리 강사님은 tiger가 아닙니다.')"
   ]
  },
  {
   "cell_type": "markdown",
   "metadata": {},
   "source": [
    "**elif (if-elif-else)**\n",
    "* elif 1개 이상 사용 할 수 있다.\n",
    "* 각각의 경우에 수행할 내용을 구분할 수 있다록 **\"반드시\"** 들여쓰기를 해주어야 한다"
   ]
  },
  {
   "cell_type": "code",
   "execution_count": null,
   "metadata": {},
   "outputs": [],
   "source": []
  },
  {
   "cell_type": "markdown",
   "metadata": {},
   "source": [
    "---"
   ]
  },
  {
   "cell_type": "markdown",
   "metadata": {},
   "source": [
    "## 조건문 match\n",
    "### match-case\n",
    "* 주어진 값을 case 블록의 값과 비교해 일치하는 case만 실행한다."
   ]
  },
  {
   "cell_type": "code",
   "execution_count": 7,
   "metadata": {},
   "outputs": [
    {
     "name": "stdout",
     "output_type": "stream",
     "text": [
      "호식이 두마리\n"
     ]
    }
   ],
   "source": [
    "input_food = input('먹고싶은 저녁을 입력해주세요')\n",
    "\n",
    "match input_food:\n",
    "    case '짜장면':\n",
    "        print('짜장면이랑 탕수육을 같이 먹고 싶어요.')\n",
    "    case '치킨':\n",
    "        print('호식이 두마리')"
   ]
  },
  {
   "cell_type": "code",
   "execution_count": null,
   "metadata": {},
   "outputs": [],
   "source": []
  }
 ],
 "metadata": {
  "kernelspec": {
   "display_name": "helloworld",
   "language": "python",
   "name": "python3"
  },
  "language_info": {
   "codemirror_mode": {
    "name": "ipython",
    "version": 3
   },
   "file_extension": ".py",
   "mimetype": "text/x-python",
   "name": "python",
   "nbconvert_exporter": "python",
   "pygments_lexer": "ipython3",
   "version": "3.11.14"
  }
 },
 "nbformat": 4,
 "nbformat_minor": 2
}
