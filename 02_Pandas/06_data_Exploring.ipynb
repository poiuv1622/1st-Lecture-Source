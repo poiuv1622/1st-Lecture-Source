{
 "cells": [
  {
   "cell_type": "markdown",
   "id": "0013b48c",
   "metadata": {},
   "source": [
    "# 6. 데이터 탐색하기\n",
    "---"
   ]
  },
  {
   "cell_type": "code",
   "execution_count": null,
   "id": "2ba55b58",
   "metadata": {},
   "outputs": [],
   "source": [
    "import pandas as pd\n",
    "df = pd.read_csv('data/customers3.csv', index_col='고객ID')\n",
    "df"
   ]
  },
  {
   "cell_type": "markdown",
   "id": "fd12a442",
   "metadata": {},
   "source": [
    "### DataFrame 확인"
   ]
  },
  {
   "cell_type": "markdown",
   "id": "3c67576c",
   "metadata": {},
   "source": [
    "**describe()**\n",
    "- 기술 통계 정보를 요약해서 보여주는 기능\n",
    "- 옵션없이 실행했을때, 기본적으로 계산가능한 컬럼들에 대해 통계를 계산해준다.\n",
    "\n",
    "> 기본사용시\n",
    "> - count: NaN (결측치)를 제외한 데이터 개수\n",
    "> - mean: 평균값\n",
    "> - std: 표준편차 (데이터가 얼마나 흩어져 있는지)\n",
    "> - min: 최솟값\n",
    "> - 25%: 1사분위수 (하위 25% 지점의 값)\n",
    "> - 50%: 2사분위수 (중앙값, median과 동일)\n",
    "> - 75%: 3사분위수 (하위 75% 지점의 값)\n",
    "> - max: 최댓값"
   ]
  },
  {
   "cell_type": "code",
   "execution_count": null,
   "id": "515b498d",
   "metadata": {},
   "outputs": [],
   "source": [
    "# 데이터를 처음 받았을때 각 열이 어떤 값들로 이루어져있는지, 데이터 분포는 어떤지 빠르게 익히는데 도움됨됨\n",
    "df.describe()"
   ]
  },
  {
   "cell_type": "markdown",
   "id": "51fa379f",
   "metadata": {},
   "source": [
    "**info()**\n",
    "\n",
    "- 데이터프레임의 전체적인 구조와 각 컬럼의 정보를 요약해서 보여준다.\n",
    "- 데이터 분석 시작 전, 결측치(Missing Data) 확인이나 데이터 타입(Dtype) 확인을 위해 많이 사용한다."
   ]
  },
  {
   "cell_type": "code",
   "execution_count": null,
   "id": "2e4c5c14",
   "metadata": {},
   "outputs": [],
   "source": [
    "df.info()"
   ]
  },
  {
   "cell_type": "code",
   "execution_count": null,
   "id": "f265bdd7",
   "metadata": {},
   "outputs": [],
   "source": [
    "df.head() # 처음 5개의 row를 가져옴"
   ]
  },
  {
   "cell_type": "code",
   "execution_count": null,
   "id": "eb5547b9",
   "metadata": {},
   "outputs": [],
   "source": [
    "df.head(7) # 처음 7개의 row를 가져옴"
   ]
  },
  {
   "cell_type": "code",
   "execution_count": null,
   "id": "3505e9bd",
   "metadata": {},
   "outputs": [],
   "source": [
    "df.tail() # 마지막 5개의 row를 가져옴"
   ]
  },
  {
   "cell_type": "code",
   "execution_count": null,
   "id": "921af112",
   "metadata": {},
   "outputs": [],
   "source": [
    "df.values # 데이터에 들어있는 값들 확인"
   ]
  },
  {
   "cell_type": "code",
   "execution_count": null,
   "id": "eb689792",
   "metadata": {},
   "outputs": [],
   "source": [
    "df.index # 인덱스 정보 확인"
   ]
  },
  {
   "cell_type": "code",
   "execution_count": null,
   "id": "7df18be3",
   "metadata": {},
   "outputs": [],
   "source": [
    "df.columns # 컬럼 정보 확인"
   ]
  },
  {
   "cell_type": "code",
   "execution_count": null,
   "id": "eb2f8da9",
   "metadata": {},
   "outputs": [],
   "source": [
    "df.shape # row, column 갯수 확인"
   ]
  },
  {
   "cell_type": "markdown",
   "id": "470bbbe8",
   "metadata": {},
   "source": [
    "### Series 확인"
   ]
  },
  {
   "cell_type": "code",
   "execution_count": null,
   "id": "68557d92",
   "metadata": {},
   "outputs": [],
   "source": [
    "df['평균구매액(만원)'].describe()"
   ]
  },
  {
   "cell_type": "code",
   "execution_count": null,
   "id": "dc967956",
   "metadata": {},
   "outputs": [],
   "source": [
    "df['평균구매액(만원)'].max()"
   ]
  },
  {
   "cell_type": "code",
   "execution_count": null,
   "id": "c4da95b1",
   "metadata": {},
   "outputs": [],
   "source": [
    "df['평균구매액(만원)'].nlargest(3) # 평균구매액 높은 순서대로 3명 데이터"
   ]
  },
  {
   "cell_type": "code",
   "execution_count": null,
   "id": "5fbc1326",
   "metadata": {},
   "outputs": [],
   "source": [
    "df['평균구매액(만원)'].mean() # 평균구매액 평균"
   ]
  },
  {
   "cell_type": "code",
   "execution_count": null,
   "id": "55508760",
   "metadata": {},
   "outputs": [],
   "source": [
    "df['평균구매액(만원)'].sum() # 평균구매액 합계"
   ]
  },
  {
   "cell_type": "code",
   "execution_count": null,
   "id": "a3b6f315",
   "metadata": {},
   "outputs": [],
   "source": [
    "df['주요관심사'].count() # 주요관심사 데이터 개수"
   ]
  },
  {
   "cell_type": "code",
   "execution_count": null,
   "id": "b0363b63",
   "metadata": {},
   "outputs": [],
   "source": [
    "df['주요관심사'].unique() # 주요관심사 종류 확인"
   ]
  }
 ],
 "metadata": {
  "kernelspec": {
   "display_name": "Python 3",
   "language": "python",
   "name": "python3"
  },
  "language_info": {
   "codemirror_mode": {
    "name": "ipython",
    "version": 3
   },
   "file_extension": ".py",
   "mimetype": "text/x-python",
   "name": "python",
   "nbconvert_exporter": "python",
   "pygments_lexer": "ipython3",
   "version": "3.14.0"
  }
 },
 "nbformat": 4,
 "nbformat_minor": 5
}
