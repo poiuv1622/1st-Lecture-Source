{
 "cells": [
  {
   "cell_type": "markdown",
   "id": "9ca123f9",
   "metadata": {},
   "source": [
    "# 8. iloc와 loc\n",
    "---"
   ]
  },
  {
   "cell_type": "code",
   "execution_count": 1,
   "id": "799af277",
   "metadata": {},
   "outputs": [
    {
     "data": {
      "text/html": [
       "<div>\n",
       "<style scoped>\n",
       "    .dataframe tbody tr th:only-of-type {\n",
       "        vertical-align: middle;\n",
       "    }\n",
       "\n",
       "    .dataframe tbody tr th {\n",
       "        vertical-align: top;\n",
       "    }\n",
       "\n",
       "    .dataframe thead th {\n",
       "        text-align: right;\n",
       "    }\n",
       "</style>\n",
       "<table border=\"1\" class=\"dataframe\">\n",
       "  <thead>\n",
       "    <tr style=\"text-align: right;\">\n",
       "      <th></th>\n",
       "      <th>고객명</th>\n",
       "      <th>나이</th>\n",
       "      <th>거주도시</th>\n",
       "      <th>주요관심사</th>\n",
       "      <th>최근1년_방문빈도</th>\n",
       "      <th>평균구매액(만원)</th>\n",
       "      <th>고객만족도(점)</th>\n",
       "      <th>재구매의사(점)</th>\n",
       "    </tr>\n",
       "    <tr>\n",
       "      <th>고객ID</th>\n",
       "      <th></th>\n",
       "      <th></th>\n",
       "      <th></th>\n",
       "      <th></th>\n",
       "      <th></th>\n",
       "      <th></th>\n",
       "      <th></th>\n",
       "      <th></th>\n",
       "    </tr>\n",
       "  </thead>\n",
       "  <tbody>\n",
       "    <tr>\n",
       "      <th>C001</th>\n",
       "      <td>박태근</td>\n",
       "      <td>35</td>\n",
       "      <td>시흥</td>\n",
       "      <td>Electronics</td>\n",
       "      <td>75</td>\n",
       "      <td>70</td>\n",
       "      <td>78</td>\n",
       "      <td>92</td>\n",
       "    </tr>\n",
       "    <tr>\n",
       "      <th>C002</th>\n",
       "      <td>이영희</td>\n",
       "      <td>30</td>\n",
       "      <td>안양</td>\n",
       "      <td>fashion</td>\n",
       "      <td>85</td>\n",
       "      <td>92</td>\n",
       "      <td>88</td>\n",
       "      <td>85</td>\n",
       "    </tr>\n",
       "    <tr>\n",
       "      <th>C003</th>\n",
       "      <td>박지성</td>\n",
       "      <td>35</td>\n",
       "      <td>울산</td>\n",
       "      <td>NaN</td>\n",
       "      <td>95</td>\n",
       "      <td>110</td>\n",
       "      <td>91</td>\n",
       "      <td>88</td>\n",
       "    </tr>\n",
       "    <tr>\n",
       "      <th>C004</th>\n",
       "      <td>최민아</td>\n",
       "      <td>40</td>\n",
       "      <td>창원</td>\n",
       "      <td>Fashion</td>\n",
       "      <td>92</td>\n",
       "      <td>105</td>\n",
       "      <td>82</td>\n",
       "      <td>96</td>\n",
       "    </tr>\n",
       "    <tr>\n",
       "      <th>C005</th>\n",
       "      <td>정수빈</td>\n",
       "      <td>28</td>\n",
       "      <td>구로</td>\n",
       "      <td>Fashion</td>\n",
       "      <td>82</td>\n",
       "      <td>88</td>\n",
       "      <td>94</td>\n",
       "      <td>79</td>\n",
       "    </tr>\n",
       "    <tr>\n",
       "      <th>C006</th>\n",
       "      <td>윤태영</td>\n",
       "      <td>27</td>\n",
       "      <td>시흥</td>\n",
       "      <td>Electronics</td>\n",
       "      <td>88</td>\n",
       "      <td>95</td>\n",
       "      <td>85</td>\n",
       "      <td>91</td>\n",
       "    </tr>\n",
       "    <tr>\n",
       "      <th>C007</th>\n",
       "      <td>한유진</td>\n",
       "      <td>31</td>\n",
       "      <td>파주</td>\n",
       "      <td>NaN</td>\n",
       "      <td>68</td>\n",
       "      <td>65</td>\n",
       "      <td>77</td>\n",
       "      <td>83</td>\n",
       "    </tr>\n",
       "    <tr>\n",
       "      <th>C008</th>\n",
       "      <td>강민호</td>\n",
       "      <td>29</td>\n",
       "      <td>일산</td>\n",
       "      <td>Sports</td>\n",
       "      <td>98</td>\n",
       "      <td>125</td>\n",
       "      <td>96</td>\n",
       "      <td>90</td>\n",
       "    </tr>\n",
       "  </tbody>\n",
       "</table>\n",
       "</div>"
      ],
      "text/plain": [
       "      고객명  나이 거주도시        주요관심사  최근1년_방문빈도  평균구매액(만원)  고객만족도(점)  재구매의사(점)\n",
       "고객ID                                                                     \n",
       "C001  박태근  35   시흥  Electronics         75         70        78        92\n",
       "C002  이영희  30   안양      fashion         85         92        88        85\n",
       "C003  박지성  35   울산          NaN         95        110        91        88\n",
       "C004  최민아  40   창원      Fashion         92        105        82        96\n",
       "C005  정수빈  28   구로      Fashion         82         88        94        79\n",
       "C006  윤태영  27   시흥  Electronics         88         95        85        91\n",
       "C007  한유진  31   파주          NaN         68         65        77        83\n",
       "C008  강민호  29   일산       Sports         98        125        96        90"
      ]
     },
     "execution_count": 1,
     "metadata": {},
     "output_type": "execute_result"
    }
   ],
   "source": [
    "import pandas as pd\n",
    "df = pd.read_csv('data/customers3.csv', index_col='고객ID')\n",
    "df"
   ]
  },
  {
   "cell_type": "markdown",
   "id": "4a40d367",
   "metadata": {},
   "source": [
    "### .iloc[] (Integer-location)\n",
    "- 'Integer location'의 약자로, **정수 위치(0부터 시작하는 순서)**를 기반으로 데이터를 선택(조회)하는 기능\n",
    "- df.iloc[행위치, 열위치] 형태로 사용하며, 이름(label)이 아닌 순서(position)로만 작동한다."
   ]
  },
  {
   "cell_type": "markdown",
   "id": "1fec920c",
   "metadata": {},
   "source": [
    "**행(ROW) 전체 조회하기**"
   ]
  },
  {
   "cell_type": "code",
   "execution_count": 2,
   "id": "c2c4fef9",
   "metadata": {},
   "outputs": [
    {
     "data": {
      "text/plain": [
       "고객명                  박태근\n",
       "나이                    35\n",
       "거주도시                  시흥\n",
       "주요관심사        Electronics\n",
       "최근1년_방문빈도             75\n",
       "평균구매액(만원)             70\n",
       "고객만족도(점)              78\n",
       "재구매의사(점)              92\n",
       "Name: C001, dtype: object"
      ]
     },
     "execution_count": 2,
     "metadata": {},
     "output_type": "execute_result"
    }
   ],
   "source": [
    "df.iloc[0]"
   ]
  },
  {
   "cell_type": "code",
   "execution_count": 5,
   "id": "2fb1ce23",
   "metadata": {},
   "outputs": [
    {
     "data": {
      "text/html": [
       "<div>\n",
       "<style scoped>\n",
       "    .dataframe tbody tr th:only-of-type {\n",
       "        vertical-align: middle;\n",
       "    }\n",
       "\n",
       "    .dataframe tbody tr th {\n",
       "        vertical-align: top;\n",
       "    }\n",
       "\n",
       "    .dataframe thead th {\n",
       "        text-align: right;\n",
       "    }\n",
       "</style>\n",
       "<table border=\"1\" class=\"dataframe\">\n",
       "  <thead>\n",
       "    <tr style=\"text-align: right;\">\n",
       "      <th></th>\n",
       "      <th>고객명</th>\n",
       "      <th>나이</th>\n",
       "      <th>거주도시</th>\n",
       "      <th>주요관심사</th>\n",
       "      <th>최근1년_방문빈도</th>\n",
       "      <th>평균구매액(만원)</th>\n",
       "      <th>고객만족도(점)</th>\n",
       "      <th>재구매의사(점)</th>\n",
       "    </tr>\n",
       "    <tr>\n",
       "      <th>고객ID</th>\n",
       "      <th></th>\n",
       "      <th></th>\n",
       "      <th></th>\n",
       "      <th></th>\n",
       "      <th></th>\n",
       "      <th></th>\n",
       "      <th></th>\n",
       "      <th></th>\n",
       "    </tr>\n",
       "  </thead>\n",
       "  <tbody>\n",
       "    <tr>\n",
       "      <th>C001</th>\n",
       "      <td>박태근</td>\n",
       "      <td>35</td>\n",
       "      <td>시흥</td>\n",
       "      <td>Electronics</td>\n",
       "      <td>75</td>\n",
       "      <td>70</td>\n",
       "      <td>78</td>\n",
       "      <td>92</td>\n",
       "    </tr>\n",
       "    <tr>\n",
       "      <th>C003</th>\n",
       "      <td>박지성</td>\n",
       "      <td>35</td>\n",
       "      <td>울산</td>\n",
       "      <td>NaN</td>\n",
       "      <td>95</td>\n",
       "      <td>110</td>\n",
       "      <td>91</td>\n",
       "      <td>88</td>\n",
       "    </tr>\n",
       "    <tr>\n",
       "      <th>C005</th>\n",
       "      <td>정수빈</td>\n",
       "      <td>28</td>\n",
       "      <td>구로</td>\n",
       "      <td>Fashion</td>\n",
       "      <td>82</td>\n",
       "      <td>88</td>\n",
       "      <td>94</td>\n",
       "      <td>79</td>\n",
       "    </tr>\n",
       "  </tbody>\n",
       "</table>\n",
       "</div>"
      ],
      "text/plain": [
       "      고객명  나이 거주도시        주요관심사  최근1년_방문빈도  평균구매액(만원)  고객만족도(점)  재구매의사(점)\n",
       "고객ID                                                                     \n",
       "C001  박태근  35   시흥  Electronics         75         70        78        92\n",
       "C003  박지성  35   울산          NaN         95        110        91        88\n",
       "C005  정수빈  28   구로      Fashion         82         88        94        79"
      ]
     },
     "execution_count": 5,
     "metadata": {},
     "output_type": "execute_result"
    }
   ],
   "source": [
    "df.iloc[0:5:2]"
   ]
  },
  {
   "cell_type": "markdown",
   "id": "28584b51",
   "metadata": {},
   "source": [
    "**단일 값(데이터) 조회하기**"
   ]
  },
  {
   "cell_type": "code",
   "execution_count": 6,
   "id": "84a18e97",
   "metadata": {},
   "outputs": [
    {
     "data": {
      "text/plain": [
       "np.int64(35)"
      ]
     },
     "execution_count": 6,
     "metadata": {},
     "output_type": "execute_result"
    }
   ],
   "source": [
    "df.iloc[0,1]"
   ]
  },
  {
   "cell_type": "code",
   "execution_count": 7,
   "id": "b0372729",
   "metadata": {},
   "outputs": [
    {
     "data": {
      "text/plain": [
       "'구로'"
      ]
     },
     "execution_count": 7,
     "metadata": {},
     "output_type": "execute_result"
    }
   ],
   "source": [
    "df.iloc[4,2]"
   ]
  },
  {
   "cell_type": "code",
   "execution_count": null,
   "id": "88d291fa",
   "metadata": {},
   "outputs": [],
   "source": []
  },
  {
   "cell_type": "code",
   "execution_count": null,
   "id": "a259a5d0",
   "metadata": {},
   "outputs": [],
   "source": []
  },
  {
   "cell_type": "markdown",
   "id": "e3b5b533",
   "metadata": {},
   "source": [
    "### .loc[] (Label-location)\n",
    "- 'Label location'의 약자로, 이름(Label)을 기반으로 데이터를 선택(조회)하는 기능\n",
    "- 인덱스 이름(예: 'row_A')과 컬럼 이름(예: 'col_X')을 직접 사용"
   ]
  },
  {
   "cell_type": "markdown",
   "id": "376caded",
   "metadata": {},
   "source": [
    "**행(ROW) 전체 조회하기**"
   ]
  },
  {
   "cell_type": "code",
   "execution_count": 10,
   "id": "ca2d41b5",
   "metadata": {},
   "outputs": [
    {
     "data": {
      "text/html": [
       "<div>\n",
       "<style scoped>\n",
       "    .dataframe tbody tr th:only-of-type {\n",
       "        vertical-align: middle;\n",
       "    }\n",
       "\n",
       "    .dataframe tbody tr th {\n",
       "        vertical-align: top;\n",
       "    }\n",
       "\n",
       "    .dataframe thead th {\n",
       "        text-align: right;\n",
       "    }\n",
       "</style>\n",
       "<table border=\"1\" class=\"dataframe\">\n",
       "  <thead>\n",
       "    <tr style=\"text-align: right;\">\n",
       "      <th></th>\n",
       "      <th>고객명</th>\n",
       "      <th>나이</th>\n",
       "      <th>거주도시</th>\n",
       "      <th>주요관심사</th>\n",
       "    </tr>\n",
       "    <tr>\n",
       "      <th>고객ID</th>\n",
       "      <th></th>\n",
       "      <th></th>\n",
       "      <th></th>\n",
       "      <th></th>\n",
       "    </tr>\n",
       "  </thead>\n",
       "  <tbody>\n",
       "    <tr>\n",
       "      <th>C001</th>\n",
       "      <td>박태근</td>\n",
       "      <td>35</td>\n",
       "      <td>시흥</td>\n",
       "      <td>Electronics</td>\n",
       "    </tr>\n",
       "    <tr>\n",
       "      <th>C002</th>\n",
       "      <td>이영희</td>\n",
       "      <td>30</td>\n",
       "      <td>안양</td>\n",
       "      <td>fashion</td>\n",
       "    </tr>\n",
       "    <tr>\n",
       "      <th>C003</th>\n",
       "      <td>박지성</td>\n",
       "      <td>35</td>\n",
       "      <td>울산</td>\n",
       "      <td>NaN</td>\n",
       "    </tr>\n",
       "    <tr>\n",
       "      <th>C004</th>\n",
       "      <td>최민아</td>\n",
       "      <td>40</td>\n",
       "      <td>창원</td>\n",
       "      <td>Fashion</td>\n",
       "    </tr>\n",
       "    <tr>\n",
       "      <th>C005</th>\n",
       "      <td>정수빈</td>\n",
       "      <td>28</td>\n",
       "      <td>구로</td>\n",
       "      <td>Fashion</td>\n",
       "    </tr>\n",
       "  </tbody>\n",
       "</table>\n",
       "</div>"
      ],
      "text/plain": [
       "      고객명  나이 거주도시        주요관심사\n",
       "고객ID                           \n",
       "C001  박태근  35   시흥  Electronics\n",
       "C002  이영희  30   안양      fashion\n",
       "C003  박지성  35   울산          NaN\n",
       "C004  최민아  40   창원      Fashion\n",
       "C005  정수빈  28   구로      Fashion"
      ]
     },
     "execution_count": 10,
     "metadata": {},
     "output_type": "execute_result"
    }
   ],
   "source": [
    "df.loc['C001':'C005','고객명':'주요관심사']"
   ]
  },
  {
   "cell_type": "code",
   "execution_count": null,
   "id": "9fc4ddfd",
   "metadata": {},
   "outputs": [],
   "source": []
  },
  {
   "cell_type": "markdown",
   "id": "6cb104db",
   "metadata": {},
   "source": [
    "**단일 값(데이터) 조회하기**"
   ]
  },
  {
   "cell_type": "code",
   "execution_count": null,
   "id": "329c1c99",
   "metadata": {},
   "outputs": [],
   "source": []
  },
  {
   "cell_type": "code",
   "execution_count": null,
   "id": "ab234693",
   "metadata": {},
   "outputs": [],
   "source": []
  },
  {
   "cell_type": "code",
   "execution_count": null,
   "id": "9b0e7fdc",
   "metadata": {},
   "outputs": [],
   "source": []
  }
 ],
 "metadata": {
  "kernelspec": {
   "display_name": "helloworld",
   "language": "python",
   "name": "python3"
  },
  "language_info": {
   "codemirror_mode": {
    "name": "ipython",
    "version": 3
   },
   "file_extension": ".py",
   "mimetype": "text/x-python",
   "name": "python",
   "nbconvert_exporter": "python",
   "pygments_lexer": "ipython3",
   "version": "3.11.14"
  }
 },
 "nbformat": 4,
 "nbformat_minor": 5
}
