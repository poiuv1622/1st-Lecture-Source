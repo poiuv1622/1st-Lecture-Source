{
    "cells": [
        {
            "cell_type": "markdown",
            "metadata": {},
            "source": [
                "# 12. 다중 막대 그래프\n",
                "---\n",
                "### 다중 막대 그래프의 활용\n",
                "- 다중 막대 그래프는 여러 데이터 계열을 나란히 배치하여 비교한다.\n",
                "- 각 항목별로 여러 값을 직접 비교할 수 있어 차이를 명확하게 파악할 수 있다.\n",
                "- 누적 막대 그래프와 달리 각 데이터를 독립적으로 비교할 수 있다.\n"
            ]
        },
        {
            "cell_type": "code",
            "execution_count": null,
            "metadata": {},
            "outputs": [],
            "source": [
                "import pandas as pd\n",
                "import numpy as np\n",
                "import matplotlib.pyplot as plt\n",
                "import matplotlib\n",
                "\n",
                "matplotlib.rcParams['font.family'] = 'Malgun Gothic' # 한글 폰트 설정\n",
                "# matplotlib.rcParams['font.family'] = 'AppleGothic' # Mac 사용자\n",
                "matplotlib.rcParams['font.size'] = 15 # 폰트 크기 설정\n",
                "matplotlib.rcParams['axes.unicode_minus'] = False # 마이너스 기호 깨짐 방지\n"
            ]
        },
        {
            "cell_type": "markdown",
            "metadata": {},
            "source": [
                "## 데이터 준비\n",
                "### 예제 데이터\n",
                "- 학생별 과목 점수 데이터를 준비한다.\n"
            ]
        },
        {
            "cell_type": "code",
            "execution_count": null,
            "metadata": {},
            "outputs": [],
            "source": [
                "# 학생별 과목 점수\n",
                "students = ['박태근', '이영희', '박지성', '최민아']\n",
                "국어 = [85, 90, 78, 88]\n",
                "영어 = [88, 85, 92, 90]\n",
                "수학 = [90, 88, 85, 92]\n"
            ]
        },
        {
            "cell_type": "markdown",
            "metadata": {},
            "source": [
                "## NumPy 배열 활용하기\n",
                "### np.arange()로 인덱스 생성\n",
                "- 다중 막대 그래프를 그리려면 각 막대의 위치를 계산해야 한다.\n",
                "- **np.arange()** 를 사용하여 연속된 숫자 배열을 생성한다.\n"
            ]
        },
        {
            "cell_type": "code",
            "execution_count": null,
            "metadata": {},
            "outputs": [],
            "source": []
        },
        {
            "cell_type": "markdown",
            "metadata": {},
            "source": [
                "## 다중 막대 그래프 그리기\n",
                "### 막대 위치 계산하기\n",
                "- 막대의 너비(width)를 설정하고, 각 막대의 위치를 조정하여 나란히 배치한다.\n",
                "- 첫 번째 막대는 왼쪽에, 두 번째는 중앙에, 세 번째는 오른쪽에 배치한다.\n"
            ]
        },
        {
            "cell_type": "code",
            "execution_count": null,
            "metadata": {},
            "outputs": [],
            "source": []
        },
        {
            "cell_type": "markdown",
            "metadata": {},
            "source": [
                "### 그래프 크기 조정\n",
                "- **figure(figsize=(width, height))** 로 그래프 크기를 조정할 수 있다.\n",
                "- 데이터가 많을 때 그래프를 크게 만들면 더 보기 좋다.\n"
            ]
        },
        {
            "cell_type": "code",
            "execution_count": null,
            "metadata": {},
            "outputs": [],
            "source": []
        },
        {
            "cell_type": "markdown",
            "metadata": {},
            "source": [
                "## 실전 예제: 고객 데이터 시각화\n",
                "### 도시별 평균 데이터 비교\n",
                "- customers3.csv 파일의 데이터를 사용하여 도시별 평균을 비교해보자.\n"
            ]
        },
        {
            "cell_type": "code",
            "execution_count": null,
            "metadata": {},
            "outputs": [],
            "source": [
                "# 고객 데이터 불러오기\n",
                "df = pd.read_csv('../02_Pandas/data/customers3.csv', encoding='utf-8')\n",
                "\n",
                "# 도시별 평균 계산\n",
                "city_avg = df.groupby('거주도시')[['나이', '평균구매액(만원)', '고객만족도(점)']].mean()\n",
                "city_avg\n"
            ]
        },
        {
            "cell_type": "code",
            "execution_count": null,
            "metadata": {},
            "outputs": [],
            "source": []
        }
    ],
    "metadata": {
        "kernelspec": {
            "display_name": "bear",
            "language": "python",
            "name": "python3"
        },
        "language_info": {
            "codemirror_mode": {
                "name": "ipython",
                "version": 3
            },
            "file_extension": ".py",
            "mimetype": "text/x-python",
            "name": "python",
            "nbconvert_exporter": "python",
            "pygments_lexer": "ipython3",
            "version": "3.12.11"
        }
    },
    "nbformat": 4,
    "nbformat_minor": 2
}
