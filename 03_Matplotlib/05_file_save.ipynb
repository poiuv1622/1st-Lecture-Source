{
 "cells": [
  {
   "cell_type": "markdown",
   "id": "59782f28",
   "metadata": {},
   "source": [
    "# 05. 그래프 파일로 저장하기\n",
    "---\n",
    "### 그래프 저장의 필요성\n",
    "- 생성한 그래프를 이미지 파일로 저장하여 보고서, 프레젠테이션 등에 활용할 수 있다.\n",
    "- Matplotlib는 다양한 이미지 형식으로 그래프를 저장할 수 있다.\n"
   ]
  },
  {
   "cell_type": "code",
   "execution_count": null,
   "id": "755f7acf",
   "metadata": {},
   "outputs": [],
   "source": [
    "import matplotlib.pyplot as plt\n",
    "import matplotlib\n",
    "\n",
    "matplotlib.rcParams['font.family'] = 'Malgun Gothic' # 한글 폰트 설정\n",
    "# matplotlib.rcParams['font.family'] = 'AppleGothic' # Mac 사용자\n",
    "matplotlib.rcParams['font.size'] = 15 # 폰트 크기 설정\n",
    "matplotlib.rcParams['axes.unicode_minus'] = False # 마이너스 기호 깨짐 방지\n"
   ]
  },
  {
   "cell_type": "code",
   "execution_count": null,
   "id": "9e00a608",
   "metadata": {},
   "outputs": [],
   "source": [
    "# 기본 데이터 준비\n",
    "x = [1, 2, 3]\n",
    "y = [2, 4, 8]\n"
   ]
  },
  {
   "cell_type": "markdown",
   "id": "04c78b6a",
   "metadata": {},
   "source": [
    "## savefig() 함수\n",
    "### 기본 사용법\n",
    "- **savefig()** 함수를 사용하여 그래프를 이미지 파일로 저장할 수 있다.\n",
    "- 파일명의 확장자에 따라 자동으로 형식이 결정된다.\n",
    "- 주요 형식: PNG, JPG, PDF, SVG 등\n"
   ]
  },
  {
   "cell_type": "code",
   "execution_count": null,
   "id": "fc0730ff",
   "metadata": {},
   "outputs": [],
   "source": []
  },
  {
   "cell_type": "markdown",
   "id": "c9f18008",
   "metadata": {},
   "source": [
    "### 이미지 해상도 조정\n",
    "- **dpi** (dots per inch) 파라미터로 이미지의 해상도를 조정할 수 있다.\n",
    "- 기본값은 100이며, 값이 클수록 고해상도 이미지가 생성된다.\n",
    "- 인쇄용이나 고품질 이미지가 필요할 때는 300 이상을 권장한다.\n"
   ]
  },
  {
   "cell_type": "code",
   "execution_count": null,
   "id": "320e0007",
   "metadata": {},
   "outputs": [],
   "source": []
  },
  {
   "cell_type": "markdown",
   "id": "73d9fa12",
   "metadata": {},
   "source": [
    "### 여백 조정\n",
    "- **bbox_inches** 파라미터를 'tight'로 설정하면 그래프 주변의 불필요한 여백을 제거할 수 있다.\n",
    "- 공간을 효율적으로 사용할 수 있어 문서에 삽입할 때 유용하다.\n"
   ]
  },
  {
   "cell_type": "code",
   "execution_count": null,
   "id": "ea5f3da1",
   "metadata": {},
   "outputs": [],
   "source": []
  },
  {
   "cell_type": "markdown",
   "id": "29ef3c19",
   "metadata": {},
   "source": [
    "### 배경색 설정\n",
    "- **facecolor** 파라미터로 그래프의 배경색을 지정할 수 있다.\n",
    "- 투명 배경이 필요한 경우 **transparent=True**를 사용한다.\n"
   ]
  },
  {
   "cell_type": "code",
   "execution_count": null,
   "id": "452aabba",
   "metadata": {},
   "outputs": [],
   "source": []
  },
  {
   "cell_type": "code",
   "execution_count": null,
   "id": "b5b16e3d",
   "metadata": {},
   "outputs": [],
   "source": []
  }
 ],
 "metadata": {
  "kernelspec": {
   "display_name": "bear",
   "language": "python",
   "name": "python3"
  },
  "language_info": {
   "codemirror_mode": {
    "name": "ipython",
    "version": 3
   },
   "file_extension": ".py",
   "mimetype": "text/x-python",
   "name": "python",
   "nbconvert_exporter": "python",
   "pygments_lexer": "ipython3",
   "version": "3.12.11"
  }
 },
 "nbformat": 4,
 "nbformat_minor": 5
}
