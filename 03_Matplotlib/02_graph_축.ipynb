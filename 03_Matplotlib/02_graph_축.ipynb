{
    "cells": [
        {
            "cell_type": "markdown",
            "metadata": {},
            "source": [
                "# 02. 그래프 축(Axis) 설정\n",
                "---\n",
                "### 그래프 축 커스터마이징\n",
                "- 그래프의 가독성을 높이기 위해 축(axis)에 대한 다양한 설정이 필요하다.\n",
                "- X축과 Y축에 라벨을 추가하거나, 눈금을 조정하여 데이터를 더 명확하게 표현할 수 있다.\n"
            ]
        },
        {
            "cell_type": "code",
            "execution_count": null,
            "metadata": {},
            "outputs": [],
            "source": [
                "import matplotlib.pyplot as plt\n",
                "import matplotlib\n",
                "\n",
                "matplotlib.rcParams['font.family'] = 'Malgun Gothic' # 한글 폰트 설정\n",
                "# matplotlib.rcParams['font.family'] = 'AppleGothic' # Mac 사용자\n",
                "matplotlib.rcParams['font.size'] = 15 # 폰트 크기 설정\n",
                "matplotlib.rcParams['axes.unicode_minus'] = False # 마이너스 기호 깨짐 방지\n"
            ]
        },
        {
            "cell_type": "code",
            "execution_count": null,
            "metadata": {},
            "outputs": [],
            "source": []
        },
        {
            "cell_type": "markdown",
            "metadata": {},
            "source": [
                "## 제목에 폰트 스타일 적용\n",
                "- title() 함수의 fontdict 파라미터를 사용하여 제목의 폰트와 크기를 변경할 수 있다.\n"
            ]
        },
        {
            "cell_type": "code",
            "execution_count": null,
            "metadata": {},
            "outputs": [],
            "source": []
        },
        {
            "cell_type": "markdown",
            "metadata": {},
            "source": [
                "## 축 라벨 추가\n",
                "### xlabel과 ylabel\n",
                "- **xlabel()**: X축에 라벨을 추가한다.\n",
                "- **ylabel()**: Y축에 라벨을 추가한다.\n",
                "- 축 라벨을 추가하면 그래프가 무엇을 나타내는지 더 명확하게 전달할 수 있다.\n"
            ]
        },
        {
            "cell_type": "code",
            "execution_count": null,
            "metadata": {},
            "outputs": [],
            "source": []
        },
        {
            "cell_type": "markdown",
            "metadata": {},
            "source": [
                "### 축 라벨 색상 설정\n",
                "- color 파라미터를 사용하여 축 라벨의 색상을 변경할 수 있다.\n",
                "- 색상은 이름(예: 'red') 또는 RGB 코드(예: '#00aa00')로 지정 가능하다.\n"
            ]
        },
        {
            "cell_type": "code",
            "execution_count": null,
            "metadata": {},
            "outputs": [],
            "source": []
        },
        {
            "cell_type": "markdown",
            "metadata": {},
            "source": [
                "### 축 라벨 위치 설정\n",
                "- **loc** 파라미터를 사용하여 라벨의 위치를 조정할 수 있다.\n",
                "- xlabel: 'left', 'center', 'right'\n",
                "- ylabel: 'bottom', 'center', 'top'\n"
            ]
        },
        {
            "cell_type": "code",
            "execution_count": null,
            "metadata": {},
            "outputs": [],
            "source": []
        },
        {
            "cell_type": "markdown",
            "metadata": {},
            "source": [
                "## 축 눈금 설정\n",
                "### xticks와 yticks\n",
                "- **xticks()**: X축의 눈금 위치를 지정한다.\n",
                "- **yticks()**: Y축의 눈금 위치를 지정한다.\n",
                "- 원하는 위치에만 눈금을 표시하여 그래프를 더 깔끔하게 만들 수 있다.\n"
            ]
        },
        {
            "cell_type": "code",
            "execution_count": null,
            "metadata": {},
            "outputs": [],
            "source": []
        },
        {
            "cell_type": "markdown",
            "metadata": {},
            "source": [
                "### 축 눈금 라벨 변경\n",
                "- xticks와 yticks 함수에 두 번째 인자로 라벨 리스트를 전달하면 눈금 라벨을 변경할 수 있다.\n"
            ]
        },
        {
            "cell_type": "code",
            "execution_count": null,
            "metadata": {},
            "outputs": [],
            "source": []
        },
        {
            "cell_type": "markdown",
            "metadata": {},
            "source": [
                "### 축 눈금 회전\n",
                "- rotation 파라미터를 사용하여 눈금 라벨을 회전시킬 수 있다.\n",
                "- 긴 라벨이 겹칠 때 유용하다.\n"
            ]
        },
        {
            "cell_type": "code",
            "execution_count": null,
            "metadata": {},
            "outputs": [],
            "source": []
        },
        {
            "cell_type": "markdown",
            "metadata": {},
            "source": [
                "## 축 범위 설정\n",
                "### xlim과 ylim\n",
                "- **xlim()**: X축의 표시 범위를 설정한다.\n",
                "- **ylim()**: Y축의 표시 범위를 설정한다.\n",
                "- 데이터의 특정 구간을 확대하거나 축소하여 보고 싶을 때 사용한다.\n"
            ]
        },
        {
            "cell_type": "code",
            "execution_count": null,
            "metadata": {},
            "outputs": [],
            "source": []
        },
        {
            "cell_type": "markdown",
            "metadata": {},
            "source": [
                "### 축 범위 지정하기\n"
            ]
        },
        {
            "cell_type": "code",
            "execution_count": null,
            "metadata": {},
            "outputs": [],
            "source": []
        }
    ],
    "metadata": {
        "kernelspec": {
            "display_name": "bear",
            "language": "python",
            "name": "python3"
        },
        "language_info": {
            "codemirror_mode": {
                "name": "ipython",
                "version": 3
            },
            "file_extension": ".py",
            "mimetype": "text/x-python",
            "name": "python",
            "nbconvert_exporter": "python",
            "pygments_lexer": "ipython3",
            "version": "3.12.11"
        }
    },
    "nbformat": 4,
    "nbformat_minor": 2
}
