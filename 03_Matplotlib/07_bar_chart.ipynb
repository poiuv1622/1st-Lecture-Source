{
    "cells": [
        {
            "cell_type": "markdown",
            "metadata": {},
            "source": [
                "# 07. 막대 그래프(Bar Chart)\n",
                "---\n",
                "### 막대 그래프의 활용\n",
                "- 막대 그래프는 범주형 데이터를 비교할 때 효과적이다.\n",
                "- 각 항목의 크기를 직관적으로 비교할 수 있어 데이터 분석에서 자주 사용된다.\n"
            ]
        },
        {
            "cell_type": "code",
            "execution_count": null,
            "metadata": {},
            "outputs": [],
            "source": [
                "import matplotlib.pyplot as plt\n",
                "import matplotlib\n",
                "\n",
                "matplotlib.rcParams['font.family'] = 'Malgun Gothic' # 한글 폰트 설정\n",
                "# matplotlib.rcParams['font.family'] = 'AppleGothic' # Mac 사용자\n",
                "matplotlib.rcParams['font.size'] = 15 # 폰트 크기 설정\n",
                "matplotlib.rcParams['axes.unicode_minus'] = False # 마이너스 기호 깨짐 방지\n"
            ]
        },
        {
            "cell_type": "markdown",
            "metadata": {},
            "source": [
                "## 기본 막대 그래프\n",
                "### bar() 함수\n",
                "- **bar()** 함수를 사용하여 세로 막대 그래프를 그릴 수 있다.\n",
                "- 첫 번째 인자는 카테고리(레이블), 두 번째 인자는 값이다.\n"
            ]
        },
        {
            "cell_type": "code",
            "execution_count": null,
            "metadata": {},
            "outputs": [],
            "source": []
        },
        {
            "cell_type": "markdown",
            "metadata": {},
            "source": [
                "## 막대 색상 설정\n",
                "### color 파라미터\n",
                "- **color** 파라미터로 막대의 색상을 변경할 수 있다.\n",
                "- 단일 색상 또는 각 막대마다 다른 색상을 지정할 수 있다.\n"
            ]
        },
        {
            "cell_type": "code",
            "execution_count": null,
            "metadata": {},
            "outputs": [],
            "source": []
        },
        {
            "cell_type": "markdown",
            "metadata": {},
            "source": [
                "- 범위조정을 적용시켜보자\n"
            ]
        },
        {
            "cell_type": "code",
            "execution_count": null,
            "metadata": {},
            "outputs": [],
            "source": [
                "plt.bar(cities, population)\n",
                "plt.ylim(200, 1000) # Y축 범위를 좁혀서 차이를 강조\n",
                "plt.title('도시별 인구 (범위 조정)')\n",
                "plt.ylabel('인구 (만명)')\n",
                "plt.show()\n"
            ]
        },
        {
            "cell_type": "markdown",
            "metadata": {},
            "source": [
                "## 가로 막대 그래프\n",
                "### barh() 함수\n",
                "- **barh()** 함수를 사용하여 가로 막대 그래프를 그릴 수 있다.\n",
                "- 항목이 많거나 라벨이 길 때 유용하다.\n"
            ]
        },
        {
            "cell_type": "code",
            "execution_count": null,
            "metadata": {},
            "outputs": [],
            "source": []
        },
        {
            "cell_type": "markdown",
            "metadata": {},
            "source": [
                "## 막대에 값 표시하기\n",
                "### text() 함수 활용\n",
                "- 막대 위에 값을 표시하면 데이터를 더 명확하게 전달할 수 있다.\n",
                "- **get_height()** 메서드로 각 막대의 높이를 가져올 수 있다.\n"
            ]
        },
        {
            "cell_type": "code",
            "execution_count": null,
            "metadata": {},
            "outputs": [],
            "source": []
        },
        {
            "cell_type": "markdown",
            "metadata": {},
            "source": [
                "## 막대 패턴 설정\n",
                "### set_hatch() 메서드\n",
                "- 막대에 패턴을 추가하면 흑백 인쇄 시에도 막대를 구분할 수 있다.\n",
                "- 다양한 패턴: '/', '\\\\', '|', '-', '+', 'x', 'o', 'O', '.', '*'\n"
            ]
        },
        {
            "cell_type": "code",
            "execution_count": null,
            "metadata": {},
            "outputs": [],
            "source": []
        }
    ],
    "metadata": {
        "kernelspec": {
            "display_name": "bear",
            "language": "python",
            "name": "python3"
        },
        "language_info": {
            "codemirror_mode": {
                "name": "ipython",
                "version": 3
            },
            "file_extension": ".py",
            "mimetype": "text/x-python",
            "name": "python",
            "nbconvert_exporter": "python",
            "pygments_lexer": "ipython3",
            "version": "3.12.11"
        }
    },
    "nbformat": 4,
    "nbformat_minor": 2
}
