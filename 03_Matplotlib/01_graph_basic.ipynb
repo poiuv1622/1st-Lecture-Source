{
    "cells": [
        {
            "cell_type": "markdown",
            "metadata": {},
            "source": [
                "# 01. Matplotlib 기초\n",
                "---\n",
                "- Matplotlib는 Python에서 데이터 시각화를 위한 가장 널리 사용되는 라이브러리이다. <br>\n",
                "    특히 다양한 형태의 그래프와 차트를 생성하여 데이터를 효과적으로 표현할 수 있다.\n",
                "\n",
                "Matplotlib는 잘 정리된 공식 문서를 제공한다.\n",
                "[Matplotlib Documentation](https://matplotlib.org/stable/index.html)\n",
                "\n",
                "- **Matplotlib의 특장점**\n",
                "    - 선 그래프, 막대 그래프, 산점도, 히스토그램 등 다양한 시각화 유형을 지원한다.\n",
                "    - Pandas, NumPy 등 다른 데이터 분석 라이브러리와 쉽게 연동 가능하다.\n",
                "    - 그래프의 색상, 선 스타일, 마커 등을 세밀하게 커스터마이징 할 수 있다.\n",
                "    - Jupyter Notebook 환경에서 인터랙티브하게 사용 가능하다.\n"
            ]
        },
        {
            "cell_type": "code",
            "execution_count": null,
            "metadata": {},
            "outputs": [],
            "source": [
                "%pip install matplotlib\n"
            ]
        },
        {
            "cell_type": "markdown",
            "metadata": {},
            "source": [
                "## Matplotlib 기본 사용법\n",
                "### pyplot 모듈\n",
                "\n",
                " > Matplotlib의 pyplot 모듈은 MATLAB과 유사한 인터페이스를 제공한다.\n",
                " > - plt.plot(): 선 그래프를 그리는 함수\n",
                " > - plt.show(): 그래프를 화면에 표시하는 함수\n"
            ]
        },
        {
            "cell_type": "code",
            "execution_count": null,
            "metadata": {},
            "outputs": [],
            "source": [
                "# 일반적인 matplotlib 사용 방법\n",
                "import matplotlib.pyplot as plt\n"
            ]
        },
        {
            "cell_type": "markdown",
            "metadata": {},
            "source": [
                "### 첫 번째 그래프 그리기\n",
                "- 가장 기본적인 선 그래프(Line Graph)를 그려보기.\n",
                "    - plot() 함수는 꺾은선 그래프 객체를 반환한다.\n",
                "    - Jupyter Notebook에서는 자동으로 그래프가 표시된다.\n"
            ]
        },
        {
            "cell_type": "code",
            "execution_count": null,
            "metadata": {},
            "outputs": [],
            "source": []
        },
        {
            "cell_type": "markdown",
            "metadata": {},
            "source": [
                "- plt.show()를 사용하면 그래프만 깔끔하게 표시된다.\n"
            ]
        },
        {
            "cell_type": "code",
            "execution_count": null,
            "metadata": {},
            "outputs": [],
            "source": []
        },
        {
            "cell_type": "markdown",
            "metadata": {},
            "source": [
                "### 그래프 제목 설정\n",
                "- plt.title() 함수를 사용하여 그래프에 제목을 추가할 수 있다.\n"
            ]
        },
        {
            "cell_type": "code",
            "execution_count": null,
            "metadata": {},
            "outputs": [],
            "source": []
        },
        {
            "cell_type": "markdown",
            "metadata": {},
            "source": [
                "## 한글 폰트 설정\n",
                "### 한글 깨짐 문제 해결\n",
                "- Matplotlib의 기본 폰트는 한글을 지원하지 않아 한글이 깨져 보인다.\n",
                "- rcParams를 사용하여 한글 폰트를 설정해야 한다.\n"
            ]
        },
        {
            "cell_type": "code",
            "execution_count": null,
            "metadata": {},
            "outputs": [],
            "source": []
        },
        {
            "cell_type": "markdown",
            "metadata": {},
            "source": [
                "### 사용 가능한 폰트 목록 확인\n",
                "- 시스템에 설치된 폰트 목록을 확인하여 사용 가능한 한글 폰트를 찾을 수 있다.\n"
            ]
        },
        {
            "cell_type": "code",
            "execution_count": null,
            "metadata": {},
            "outputs": [],
            "source": []
        },
        {
            "cell_type": "markdown",
            "metadata": {},
            "source": [
                "- 폰트명만 깔끔하게 보려면 리스트 컴프리헨션을 활용한다.\n"
            ]
        },
        {
            "cell_type": "code",
            "execution_count": null,
            "metadata": {},
            "outputs": [],
            "source": []
        },
        {
            "cell_type": "markdown",
            "metadata": {},
            "source": [
                "### 한글 제목으로 그래프 그리기\n",
                "- 한글 폰트 설정 후 한글 제목을 사용할 수 있다.\n"
            ]
        },
        {
            "cell_type": "code",
            "execution_count": null,
            "metadata": {},
            "outputs": [],
            "source": []
        },
        {
            "cell_type": "markdown",
            "metadata": {},
            "source": [
                "### 음수 값 표현하기\n",
                "- 음수 값도 정상적으로 표현되는지 확인해보자.\n",
                "- axes.unicode_minus 설정이 False여야 마이너스 기호가 깨지지 않는다.\n"
            ]
        },
        {
            "cell_type": "code",
            "execution_count": null,
            "metadata": {},
            "outputs": [],
            "source": []
        }
    ],
    "metadata": {
        "kernelspec": {
            "display_name": "bear",
            "language": "python",
            "name": "python3"
        },
        "language_info": {
            "codemirror_mode": {
                "name": "ipython",
                "version": 3
            },
            "file_extension": ".py",
            "mimetype": "text/x-python",
            "name": "python",
            "nbconvert_exporter": "python",
            "pygments_lexer": "ipython3",
            "version": "3.12.11"
        }
    },
    "nbformat": 4,
    "nbformat_minor": 2
}
