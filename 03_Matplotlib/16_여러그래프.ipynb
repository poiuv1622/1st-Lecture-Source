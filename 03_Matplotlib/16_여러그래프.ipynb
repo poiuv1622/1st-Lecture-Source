{
    "cells": [
        {
            "cell_type": "markdown",
            "metadata": {},
            "source": [
                "# 16. 여러 그래프 배치하기\n",
                "---\n",
                "### 서브플롯 (Subplots)\n",
                "- 하나의 Figure에 여러 개의 그래프를 배치할 수 있다.\n",
                "- 다양한 관점에서 데이터를 동시에 비교할 수 있다.\n"
            ]
        },
        {
            "cell_type": "code",
            "execution_count": null,
            "metadata": {},
            "outputs": [],
            "source": [
                "import pandas as pd\n",
                "import matplotlib.pyplot as plt\n",
                "import matplotlib\n",
                "\n",
                "matplotlib.rcParams['font.family'] = 'Malgun Gothic' # 한글 폰트 설정\n",
                "# matplotlib.rcParams['font.family'] = 'AppleGothic' # Mac 사용자\n",
                "matplotlib.rcParams['font.size'] = 15 # 폰트 크기 설정\n",
                "matplotlib.rcParams['axes.unicode_minus'] = False # 마이너스 기호 깨짐 방지\n"
            ]
        },
        {
            "cell_type": "markdown",
            "metadata": {},
            "source": [
                "## 데이터 준비\n",
                "### 고객 데이터 불러오기\n"
            ]
        },
        {
            "cell_type": "code",
            "execution_count": null,
            "metadata": {},
            "outputs": [],
            "source": [
                "# 고객 데이터 불러오기\n",
                "df = pd.read_csv('../02_Pandas/data/customers3.csv', encoding='utf-8')\n",
                "df.head()\n"
            ]
        },
        {
            "cell_type": "markdown",
            "metadata": {},
            "source": [
                "## 서브플롯 만들기\n",
                "### subplots() 함수\n",
                "- **subplots(nrows, ncols)** 로 여러 그래프를 배치할 수 있다.\n",
                "- **fig**: Figure 객체\n",
                "- **axs**: Axes 객체들의 배열\n"
            ]
        },
        {
            "cell_type": "code",
            "execution_count": null,
            "metadata": {},
            "outputs": [],
            "source": []
        },
        {
            "cell_type": "markdown",
            "metadata": {},
            "source": [
                "## Axes 객체 활용\n",
                "### 각 서브플롯 스타일링\n",
                "- 각 Axes 객체에 대해 개별적으로 스타일을 적용할 수 있다.\n",
                "- **set_facecolor()**: 배경색 설정\n",
                "- **grid()**: 그리드 추가\n"
            ]
        },
        {
            "cell_type": "code",
            "execution_count": null,
            "metadata": {},
            "outputs": [],
            "source": []
        }
    ],
    "metadata": {
        "kernelspec": {
            "display_name": "bear",
            "language": "python",
            "name": "python3"
        },
        "language_info": {
            "codemirror_mode": {
                "name": "ipython",
                "version": 3
            },
            "file_extension": ".py",
            "mimetype": "text/x-python",
            "name": "python",
            "nbconvert_exporter": "python",
            "pygments_lexer": "ipython3",
            "version": "3.12.11"
        }
    },
    "nbformat": 4,
    "nbformat_minor": 2
}
