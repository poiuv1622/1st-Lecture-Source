{
 "cells": [
  {
   "cell_type": "markdown",
   "metadata": {},
   "source": [
    "# 03. 범례(Legend)\n",
    "---\n",
    "### 범례의 필요성\n",
    "- 범례(Legend)는 그래프에 표시된 여러 데이터 계열을 구분하기 위한 설명이다.\n",
    "- 여러 개의 선이나 데이터가 있을 때 각각이 무엇을 의미하는지 명확하게 표시할 수 있다.\n"
   ]
  },
  {
   "cell_type": "code",
   "execution_count": null,
   "metadata": {},
   "outputs": [],
   "source": [
    "import matplotlib.pyplot as plt\n",
    "import matplotlib\n",
    "\n",
    "matplotlib.rcParams['font.family'] = 'Malgun Gothic' # 한글 폰트 설정\n",
    "# matplotlib.rcParams['font.family'] = 'AppleGothic' # Mac 사용자\n",
    "matplotlib.rcParams['font.size'] = 15 # 폰트 크기 설정\n",
    "matplotlib.rcParams['axes.unicode_minus'] = False # 마이너스 기호 깨짐 방지\n"
   ]
  },
  {
   "cell_type": "code",
   "execution_count": null,
   "metadata": {},
   "outputs": [],
   "source": []
  },
  {
   "cell_type": "markdown",
   "metadata": {},
   "source": [
    "## 범례 추가하기\n",
    "### 기본 범례 사용\n",
    "- plot() 함수에 **label** 파라미터를 추가하여 데이터의 이름을 지정한다.\n",
    "- **legend()** 함수를 호출하면 범례가 표시된다.\n"
   ]
  },
  {
   "cell_type": "code",
   "execution_count": null,
   "metadata": {},
   "outputs": [],
   "source": []
  },
  {
   "cell_type": "markdown",
   "metadata": {},
   "source": [
    "### 여러 데이터에 범례 추가\n",
    "- 여러 개의 plot을 그릴 때 각각에 label을 지정하면 범례에 모두 표시된다.\n"
   ]
  },
  {
   "cell_type": "code",
   "execution_count": null,
   "metadata": {},
   "outputs": [],
   "source": []
  },
  {
   "cell_type": "markdown",
   "metadata": {},
   "source": [
    "## 범례 위치 조정\n",
    "### loc 파라미터\n",
    "- **loc** 파라미터를 사용하여 범례의 위치를 조정할 수 있다.\n",
    "- 주요 위치 옵션:\n",
    "    - 'upper left': 왼쪽 위\n",
    "    - 'upper right': 오른쪽 위 (기본값)\n",
    "    - 'lower left': 왼쪽 아래\n",
    "    - 'lower right': 오른쪽 아래\n",
    "    - 'center': 중앙\n"
   ]
  },
  {
   "cell_type": "code",
   "execution_count": null,
   "metadata": {},
   "outputs": [],
   "source": []
  },
  {
   "cell_type": "markdown",
   "metadata": {},
   "source": [
    "### 좌표를 사용한 범례 위치 지정\n",
    "- loc 파라미터에 튜플 (x, y)를 전달하여 정확한 위치를 지정할 수 있다.\n",
    "- x, y 값은 0~1 사이의 값으로, 그래프의 상대적 위치를 나타낸다.\n",
    "- (0, 0)은 왼쪽 아래, (1, 1)은 오른쪽 위를 의미한다.\n"
   ]
  },
  {
   "cell_type": "code",
   "execution_count": null,
   "metadata": {},
   "outputs": [],
   "source": []
  },
  {
   "cell_type": "markdown",
   "metadata": {},
   "source": [
    "## 범례 스타일 설정\n",
    "### 범례 프레임과 그림자\n",
    "- **frameon**: 범례 주변 프레임 표시 여부\n",
    "- **shadow**: 범례에 그림자 효과 추가\n"
   ]
  },
  {
   "cell_type": "code",
   "execution_count": null,
   "metadata": {},
   "outputs": [],
   "source": []
  },
  {
   "cell_type": "markdown",
   "metadata": {},
   "source": [
    "### 범례 폰트 크기 조정\n",
    "- **fontsize** 파라미터를 사용하여 범례의 글자 크기를 조정할 수 있다.\n"
   ]
  },
  {
   "cell_type": "code",
   "execution_count": null,
   "metadata": {},
   "outputs": [],
   "source": [
    "plt.plot(x, y1, label='데이터 A')\n",
    "plt.plot(x, y2, label='데이터 B')\n",
    "plt.legend(fontsize=12)\n",
    "plt.show()\n"
   ]
  }
 ],
 "metadata": {
  "kernelspec": {
   "display_name": "bear",
   "language": "python",
   "name": "python3"
  },
  "language_info": {
   "codemirror_mode": {
    "name": "ipython",
    "version": 3
   },
   "file_extension": ".py",
   "mimetype": "text/x-python",
   "name": "python",
   "nbconvert_exporter": "python",
   "pygments_lexer": "ipython3",
   "version": "3.12.11"
  }
 },
 "nbformat": 4,
 "nbformat_minor": 5
}
