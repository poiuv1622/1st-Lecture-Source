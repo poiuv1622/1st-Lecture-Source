{
    "cells": [
        {
            "cell_type": "markdown",
            "metadata": {},
            "source": [
                "# 15. 산점도 (Scatter Plot)\n",
                "---\n",
                "### 산점도의 특징\n",
                "- 산점도는 두 변수 간의 관계를 시각화하는 데 효과적이다.\n",
                "- 데이터의 분포와 상관관계를 한눈에 파악할 수 있다.\n"
            ]
        },
        {
            "cell_type": "code",
            "execution_count": null,
            "metadata": {},
            "outputs": [],
            "source": [
                "import pandas as pd\n",
                "import numpy as np\n",
                "import matplotlib.pyplot as plt\n",
                "import matplotlib\n",
                "\n",
                "matplotlib.rcParams['font.family'] = 'Malgun Gothic' # 한글 폰트 설정\n",
                "# matplotlib.rcParams['font.family'] = 'AppleGothic' # Mac 사용자\n",
                "matplotlib.rcParams['font.size'] = 15 # 폰트 크기 설정\n",
                "matplotlib.rcParams['axes.unicode_minus'] = False # 마이너스 기호 깨짐 방지\n"
            ]
        },
        {
            "cell_type": "markdown",
            "metadata": {},
            "source": [
                "## 데이터 준비\n",
                "### 고객 데이터 불러오기\n",
                "- customers3.csv 파일에 학년 정보를 추가한다.\n"
            ]
        },
        {
            "cell_type": "code",
            "execution_count": null,
            "metadata": {},
            "outputs": [],
            "source": [
                "# 고객 데이터 불러오기\n",
                "df = pd.read_csv('../02_Pandas/data/customers3.csv', encoding='utf-8')\n",
                "df.head()\n"
            ]
        },
        {
            "cell_type": "markdown",
            "metadata": {},
            "source": [
                "## 기본 산점도\n",
                "### scatter() 함수\n",
                "- **scatter()** 함수를 사용하여 산점도를 그린다.\n",
                "- X축과 Y축에 각각의 변수를 지정한다.\n"
            ]
        },
        {
            "cell_type": "code",
            "execution_count": null,
            "metadata": {},
            "outputs": [],
            "source": []
        },
        {
            "cell_type": "markdown",
            "metadata": {},
            "source": [
                "## 점 크기 조정하기\n",
                "### s 파라미터\n",
                "- **s** 파라미터로 점의 크기를 조정할 수 있다.\n",
                "- 다른 변수의 값에 따라 점의 크기를 다르게 할 수 있다.\n"
            ]
        },
        {
            "cell_type": "code",
            "execution_count": null,
            "metadata": {},
            "outputs": [],
            "source": []
        },
        {
            "cell_type": "markdown",
            "metadata": {},
            "source": [
                "## 점 색상 조정하기\n",
                "### c와 cmap 파라미터\n",
                "- **c**: 점의 색상을 지정한다.\n",
                "- **cmap**: 컬러맵을 지정한다.\n",
                "    - viridis : 파란색-녹색-노란색 으로이루어진 색상 맵맵=\n",
                "    - 변수 값에 따라 색상이 자동으로 매핑된다.\n"
            ]
        },
        {
            "cell_type": "code",
            "execution_count": null,
            "metadata": {},
            "outputs": [],
            "source": []
        },
        {
            "cell_type": "markdown",
            "metadata": {},
            "source": [
                "## 컬러바 추가하기\n",
                "### colorbar() 함수\n",
                "- **colorbar()**로 색상과 값의 관계를 보여주는 컬러바를 추가한다.\n",
                "- **label**: 컬러바 레이블\n",
                "- **shrink**: 컬러바 크기 조정\n",
                "- **orientation**: 컬러바 방향 ('vertical', 'horizontal')\n"
            ]
        },
        {
            "cell_type": "code",
            "execution_count": null,
            "metadata": {},
            "outputs": [],
            "source": []
        }
    ],
    "metadata": {
        "kernelspec": {
            "display_name": "bear",
            "language": "python",
            "name": "python3"
        },
        "language_info": {
            "codemirror_mode": {
                "name": "ipython",
                "version": 3
            },
            "file_extension": ".py",
            "mimetype": "text/x-python",
            "name": "python",
            "nbconvert_exporter": "python",
            "pygments_lexer": "ipython3",
            "version": "3.12.11"
        }
    },
    "nbformat": 4,
    "nbformat_minor": 2
}
