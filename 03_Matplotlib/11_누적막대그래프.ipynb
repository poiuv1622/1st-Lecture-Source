{
    "cells": [
        {
            "cell_type": "markdown",
            "metadata": {},
            "source": [
                "# 11. 누적 막대 그래프\n",
                "---\n",
                "### 누적 막대 그래프의 활용\n",
                "- 누적 막대 그래프는 여러 데이터 계열을 하나의 막대에 쌓아서 표현한다.\n",
                "- 전체 합계와 각 구성 요소의 비율을 동시에 파악할 수 있다.\n",
                "- 항목별 비교와 전체 합계를 한눈에 볼 수 있어 유용하다.\n"
            ]
        },
        {
            "cell_type": "code",
            "execution_count": null,
            "metadata": {},
            "outputs": [],
            "source": [
                "import pandas as pd\n",
                "import matplotlib.pyplot as plt\n",
                "import matplotlib\n",
                "\n",
                "matplotlib.rcParams['font.family'] = 'Malgun Gothic' # 한글 폰트 설정\n",
                "# matplotlib.rcParams['font.family'] = 'AppleGothic' # Mac 사용자\n",
                "matplotlib.rcParams['font.size'] = 15 # 폰트 크기 설정\n",
                "matplotlib.rcParams['axes.unicode_minus'] = False # 마이너스 기호 깨짐 방지\n"
            ]
        },
        {
            "cell_type": "markdown",
            "metadata": {},
            "source": [
                "### 간단한 예제 데이터\n",
                "- 먼저 간단한 예제로 누적 막대 그래프의 원리를 이해해보자.\n"
            ]
        },
        {
            "cell_type": "code",
            "execution_count": null,
            "metadata": {},
            "outputs": [],
            "source": [
                "# 간단한 예제 데이터\n",
                "students = ['박태근', '이영희', '박지성']\n",
                "korean = [85, 90, 78]\n",
                "english = [88, 85, 92]\n",
                "math = [90, 88, 85]\n"
            ]
        },
        {
            "cell_type": "markdown",
            "metadata": {},
            "source": [
                "## 누적 막대 그래프 만들기\n",
                "### bottom 파라미터\n",
                "- **bottom** 파라미터를 사용하여 막대를 쌓을 수 있다.\n",
                "- 첫 번째 막대 위에 두 번째 막대를 쌓으려면 bottom에 첫 번째 데이터를 전달한다.\n"
            ]
        },
        {
            "cell_type": "code",
            "execution_count": null,
            "metadata": {},
            "outputs": [],
            "source": []
        },
        {
            "cell_type": "code",
            "execution_count": null,
            "metadata": {},
            "outputs": [],
            "source": []
        },
        {
            "cell_type": "markdown",
            "metadata": {},
            "source": [
                "### 세 개 이상 데이터 누적하기\n",
                "- 세 번째 막대를 쌓으려면 이전 두 데이터의 합을 bottom에 전달한다.\n"
            ]
        },
        {
            "cell_type": "markdown",
            "metadata": {},
            "source": [
                "### np.array\n",
                "- 여러개의 값을 담을 수 있는 다차원 그리드\n",
                "- 1차원(배열), 2차원(행렬), 3차원 이상(텐서)의 형태를 가질 수 있다.\n",
                "\n",
                "**특징**\n",
                "- 안의 모든 요소가 동일한 자료형이어야한다.\n",
                "- 요소별 연산이 가능하다. (배열전체에 대한 한번의 연산으로)"
            ]
        },
        {
            "cell_type": "code",
            "execution_count": null,
            "metadata": {},
            "outputs": [],
            "source": []
        },
        {
            "cell_type": "code",
            "execution_count": null,
            "metadata": {},
            "outputs": [],
            "source": []
        },
        {
            "cell_type": "markdown",
            "metadata": {},
            "source": [
                "### 범례 추가하기\n",
                "- 각 데이터에 label을 추가하고 legend()를 호출하면 범례가 표시된다.\n"
            ]
        },
        {
            "cell_type": "code",
            "execution_count": null,
            "metadata": {},
            "outputs": [],
            "source": []
        }
    ],
    "metadata": {
        "kernelspec": {
            "display_name": "bear",
            "language": "python",
            "name": "python3"
        },
        "language_info": {
            "codemirror_mode": {
                "name": "ipython",
                "version": 3
            },
            "file_extension": ".py",
            "mimetype": "text/x-python",
            "name": "python",
            "nbconvert_exporter": "python",
            "pygments_lexer": "ipython3",
            "version": "3.12.11"
        }
    },
    "nbformat": 4,
    "nbformat_minor": 2
}
