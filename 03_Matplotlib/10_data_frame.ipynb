{
    "cells": [
        {
            "cell_type": "markdown",
            "metadata": {},
            "source": [
                "# 10. DataFrame 시각화\n",
                "---\n",
                "### DataFrame과 Matplotlib\n",
                "- Pandas DataFrame의 데이터를 Matplotlib로 시각화할 수 있다.\n",
                "- DataFrame의 컬럼을 직접 plot() 함수에 전달하여 그래프를 그릴 수 있다.\n"
            ]
        },
        {
            "cell_type": "code",
            "execution_count": null,
            "metadata": {},
            "outputs": [],
            "source": [
                "import pandas as pd\n",
                "import matplotlib.pyplot as plt\n",
                "import matplotlib\n",
                "\n",
                "matplotlib.rcParams['font.family'] = 'Malgun Gothic' # 한글 폰트 설정\n",
                "# matplotlib.rcParams['font.family'] = 'AppleGothic' # Mac 사용자\n",
                "matplotlib.rcParams['font.size'] = 15 # 폰트 크기 설정\n",
                "matplotlib.rcParams['axes.unicode_minus'] = False # 마이너스 기호 깨짐 방지\n"
            ]
        },
        {
            "cell_type": "markdown",
            "metadata": {},
            "source": [
                "## 데이터 준비\n",
                "### customers3.csv 파일 불러오기\n",
                "- Pandas로 CSV 파일을 불러온다.\n"
            ]
        },
        {
            "cell_type": "code",
            "execution_count": null,
            "metadata": {},
            "outputs": [],
            "source": [
                "# 고객 데이터 불러오기\n",
                "df = pd.read_csv('../02_Pandas/data/customers3.csv', encoding='utf-8')\n",
                "df.head()\n"
            ]
        },
        {
            "cell_type": "markdown",
            "metadata": {},
            "source": [
                "## 단일 컬럼 그래프\n",
                "### DataFrame 컬럼으로 그래프 그리기\n",
                "- DataFrame의 특정 컬럼을 X축과 Y축에 전달하여 그래프를 그린다.\n"
            ]
        },
        {
            "cell_type": "code",
            "execution_count": null,
            "metadata": {},
            "outputs": [],
            "source": []
        },
        {
            "cell_type": "markdown",
            "metadata": {},
            "source": [
                "## 여러 컬럼 동시 그리기\n",
                "### 여러 데이터를 하나의 그래프에 표시\n",
                "- 여러 컬럼의 데이터를 한 그래프에 그려 비교할 수 있다.\n"
            ]
        },
        {
            "cell_type": "code",
            "execution_count": null,
            "metadata": {},
            "outputs": [],
            "source": []
        },
        {
            "cell_type": "markdown",
            "metadata": {},
            "source": [
                "## 그리드 추가하기\n",
                "### grid() 함수\n",
                "- **grid()** 함수를 사용하여 그래프에 그리드를 추가할 수 있다.\n",
                "- 그리드는 데이터 값을 더 쉽게 읽을 수 있도록 도와준다.\n"
            ]
        },
        {
            "cell_type": "code",
            "execution_count": null,
            "metadata": {},
            "outputs": [],
            "source": []
        },
        {
            "cell_type": "markdown",
            "metadata": {},
            "source": [
                "### 그리드 스타일 커스터마이징\n",
                "- **axis**: 그리드를 표시할 축 ('x', 'y', 'both')\n",
                "- **color**: 그리드 색상\n",
                "- **linestyle**: 선 스타일 ('-', '--', '-.', ':')\n",
                "- **alpha**: 투명도 (0~1)\n",
                "- **linewidth**: 선 두께\n"
            ]
        },
        {
            "cell_type": "code",
            "execution_count": null,
            "metadata": {},
            "outputs": [],
            "source": []
        }
    ],
    "metadata": {
        "kernelspec": {
            "display_name": "bear",
            "language": "python",
            "name": "python3"
        },
        "language_info": {
            "codemirror_mode": {
                "name": "ipython",
                "version": 3
            },
            "file_extension": ".py",
            "mimetype": "text/x-python",
            "name": "python",
            "nbconvert_exporter": "python",
            "pygments_lexer": "ipython3",
            "version": "3.12.11"
        }
    },
    "nbformat": 4,
    "nbformat_minor": 2
}
