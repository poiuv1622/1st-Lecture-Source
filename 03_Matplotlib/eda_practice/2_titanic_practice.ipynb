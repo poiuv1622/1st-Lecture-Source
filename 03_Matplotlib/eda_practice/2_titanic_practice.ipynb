{
 "cells": [
  {
   "cell_type": "markdown",
   "metadata": {},
   "source": [
    "##### [실습] titanic 승객 데이터 활용"
   ]
  },
  {
   "cell_type": "markdown",
   "metadata": {},
   "source": [
    "**컬럼 설명** \n",
    "- PassengerId - 승객 고유번호\n",
    "- Survived - 생존유무(target 값) (0 = 사망, 1 = 생존)\n",
    "- Pclass - 티켓 클래스 (1 = 1st, 2 = 2nd, 3 = 3rd)\n",
    "- Name - 탑승객 성명\n",
    "- Sex - 성별 (male: 남성, female: 여성)\n",
    "- Age - 나이(세)\n",
    "- SibSp - 함께 탑승한 형제자매, 배우자 수 총합\n",
    "- Parch - 함께 탑승한 부모, 자녀 수 총합\n",
    "- Ticket - 티켓 넘버\n",
    "- Fare - 탑승 요금\n",
    "- Cabin - 객실 넘버\n",
    "- Embarked - 탑승 항구 (C: Cherbourg, Q: Queenstown, S: Southampton)"
   ]
  },
  {
   "cell_type": "code",
   "execution_count": 7,
   "metadata": {},
   "outputs": [
    {
     "data": {
      "text/html": [
       "<div>\n",
       "<style scoped>\n",
       "    .dataframe tbody tr th:only-of-type {\n",
       "        vertical-align: middle;\n",
       "    }\n",
       "\n",
       "    .dataframe tbody tr th {\n",
       "        vertical-align: top;\n",
       "    }\n",
       "\n",
       "    .dataframe thead th {\n",
       "        text-align: right;\n",
       "    }\n",
       "</style>\n",
       "<table border=\"1\" class=\"dataframe\">\n",
       "  <thead>\n",
       "    <tr style=\"text-align: right;\">\n",
       "      <th></th>\n",
       "      <th>Survived</th>\n",
       "      <th>Pclass</th>\n",
       "      <th>Name</th>\n",
       "      <th>Sex</th>\n",
       "      <th>Age</th>\n",
       "      <th>SibSp</th>\n",
       "      <th>Parch</th>\n",
       "      <th>Ticket</th>\n",
       "      <th>Fare</th>\n",
       "      <th>Cabin</th>\n",
       "      <th>Embarked</th>\n",
       "    </tr>\n",
       "    <tr>\n",
       "      <th>PassengerId</th>\n",
       "      <th></th>\n",
       "      <th></th>\n",
       "      <th></th>\n",
       "      <th></th>\n",
       "      <th></th>\n",
       "      <th></th>\n",
       "      <th></th>\n",
       "      <th></th>\n",
       "      <th></th>\n",
       "      <th></th>\n",
       "      <th></th>\n",
       "    </tr>\n",
       "  </thead>\n",
       "  <tbody>\n",
       "    <tr>\n",
       "      <th>1</th>\n",
       "      <td>0</td>\n",
       "      <td>3</td>\n",
       "      <td>Braund, Mr. Owen Harris</td>\n",
       "      <td>male</td>\n",
       "      <td>22.0</td>\n",
       "      <td>1</td>\n",
       "      <td>0</td>\n",
       "      <td>A/5 21171</td>\n",
       "      <td>7.2500</td>\n",
       "      <td>NaN</td>\n",
       "      <td>S</td>\n",
       "    </tr>\n",
       "    <tr>\n",
       "      <th>2</th>\n",
       "      <td>1</td>\n",
       "      <td>1</td>\n",
       "      <td>Cumings, Mrs. John Bradley (Florence Briggs Th...</td>\n",
       "      <td>female</td>\n",
       "      <td>38.0</td>\n",
       "      <td>1</td>\n",
       "      <td>0</td>\n",
       "      <td>PC 17599</td>\n",
       "      <td>71.2833</td>\n",
       "      <td>C85</td>\n",
       "      <td>C</td>\n",
       "    </tr>\n",
       "    <tr>\n",
       "      <th>3</th>\n",
       "      <td>1</td>\n",
       "      <td>3</td>\n",
       "      <td>Heikkinen, Miss. Laina</td>\n",
       "      <td>female</td>\n",
       "      <td>26.0</td>\n",
       "      <td>0</td>\n",
       "      <td>0</td>\n",
       "      <td>STON/O2. 3101282</td>\n",
       "      <td>7.9250</td>\n",
       "      <td>NaN</td>\n",
       "      <td>S</td>\n",
       "    </tr>\n",
       "    <tr>\n",
       "      <th>4</th>\n",
       "      <td>1</td>\n",
       "      <td>1</td>\n",
       "      <td>Futrelle, Mrs. Jacques Heath (Lily May Peel)</td>\n",
       "      <td>female</td>\n",
       "      <td>35.0</td>\n",
       "      <td>1</td>\n",
       "      <td>0</td>\n",
       "      <td>113803</td>\n",
       "      <td>53.1000</td>\n",
       "      <td>C123</td>\n",
       "      <td>S</td>\n",
       "    </tr>\n",
       "    <tr>\n",
       "      <th>5</th>\n",
       "      <td>0</td>\n",
       "      <td>3</td>\n",
       "      <td>Allen, Mr. William Henry</td>\n",
       "      <td>male</td>\n",
       "      <td>35.0</td>\n",
       "      <td>0</td>\n",
       "      <td>0</td>\n",
       "      <td>373450</td>\n",
       "      <td>8.0500</td>\n",
       "      <td>NaN</td>\n",
       "      <td>S</td>\n",
       "    </tr>\n",
       "  </tbody>\n",
       "</table>\n",
       "</div>"
      ],
      "text/plain": [
       "             Survived  Pclass  \\\n",
       "PassengerId                     \n",
       "1                   0       3   \n",
       "2                   1       1   \n",
       "3                   1       3   \n",
       "4                   1       1   \n",
       "5                   0       3   \n",
       "\n",
       "                                                          Name     Sex   Age  \\\n",
       "PassengerId                                                                    \n",
       "1                                      Braund, Mr. Owen Harris    male  22.0   \n",
       "2            Cumings, Mrs. John Bradley (Florence Briggs Th...  female  38.0   \n",
       "3                                       Heikkinen, Miss. Laina  female  26.0   \n",
       "4                 Futrelle, Mrs. Jacques Heath (Lily May Peel)  female  35.0   \n",
       "5                                     Allen, Mr. William Henry    male  35.0   \n",
       "\n",
       "             SibSp  Parch            Ticket     Fare Cabin Embarked  \n",
       "PassengerId                                                          \n",
       "1                1      0         A/5 21171   7.2500   NaN        S  \n",
       "2                1      0          PC 17599  71.2833   C85        C  \n",
       "3                0      0  STON/O2. 3101282   7.9250   NaN        S  \n",
       "4                1      0            113803  53.1000  C123        S  \n",
       "5                0      0            373450   8.0500   NaN        S  "
      ]
     },
     "execution_count": 7,
     "metadata": {},
     "output_type": "execute_result"
    }
   ],
   "source": [
    "# titanic.csv 파일 로드\n",
    "import pandas as pd\n",
    "\n",
    "df = pd.read_csv('data/titanic.csv', index_col='PassengerId')\n",
    "df.head()\n",
    "# titanic 데이터셋의 메타 데이터 확인"
   ]
  },
  {
   "cell_type": "markdown",
   "metadata": {},
   "source": [
    "- 기초문제"
   ]
  },
  {
   "cell_type": "code",
   "execution_count": 11,
   "metadata": {},
   "outputs": [
    {
     "name": "stdout",
     "output_type": "stream",
     "text": [
      "생존자 수: 342\n",
      "사망자 수: 549\n"
     ]
    }
   ],
   "source": [
    "# 1. 전체 승객 중 생존자의 수와 사망자의 수를 구하여 출력\n",
    "\n",
    "survived_count = df[df['Survived'] == 1].shape[0]\n",
    "dead_count = df[df['Survived'] == 0].shape[0]\n",
    "\n",
    "print(f\"생존자 수: {survived_count}\")\n",
    "print(f\"사망자 수: {dead_count}\")"
   ]
  },
  {
   "cell_type": "code",
   "execution_count": 12,
   "metadata": {},
   "outputs": [
    {
     "name": "stdout",
     "output_type": "stream",
     "text": [
      "승객 나이의 평균: 29.70\n"
     ]
    }
   ],
   "source": [
    "# 2. 승객 나이의 평균 출력\n",
    "average_age = df['Age'].mean()\n",
    "print(f\"승객 나이의 평균: {average_age:.2f}\")"
   ]
  },
  {
   "cell_type": "code",
   "execution_count": 14,
   "metadata": {},
   "outputs": [
    {
     "name": "stdout",
     "output_type": "stream",
     "text": [
      "운임이 가장 높은 1등급 승객의 이름:\n",
      "Ward, Miss. Anna\n"
     ]
    }
   ],
   "source": [
    "# 3. 1등급 승객 중 운임이 가장 높은 승객의 이름 출력\n",
    "\n",
    "# 1등급 승객만 필터링\n",
    "#first_class = df[df['Pclass'] == 1]\n",
    "\n",
    "# 운임이 가장 높은 값 찾기\n",
    "max_fare = df['Fare'].max()\n",
    "\n",
    "# 그 운임을 가진 승객(들) 정보 얻기\n",
    "rich_passenger = df[df['Fare'] == max_fare]\n",
    "\n",
    "# 이름만 출력\n",
    "print(\"운임이 가장 높은 1등급 승객의 이름:\")\n",
    "print(rich_passenger['Name'].values[0])  # 첫 번째 승객의 이름 출력"
   ]
  },
  {
   "cell_type": "code",
   "execution_count": 16,
   "metadata": {},
   "outputs": [
    {
     "name": "stdout",
     "output_type": "stream",
     "text": [
      "여성 승객 수: 314\n"
     ]
    }
   ],
   "source": [
    "# 4. 여성 승객의 수를 구하여 출력\n",
    "\n",
    "female_count = df[df['Sex'] == 'female'].shape[0]\n",
    "\n",
    "print(f\"여성 승객 수: {female_count}\")"
   ]
  },
  {
   "cell_type": "code",
   "execution_count": 17,
   "metadata": {},
   "outputs": [
    {
     "name": "stdout",
     "output_type": "stream",
     "text": [
      "이름: Cumings, Mrs. John Bradley (Florence Briggs Thayer), 운임: 71.2833\n",
      "이름: Futrelle, Mrs. Jacques Heath (Lily May Peel), 운임: 53.1\n",
      "이름: McCarthy, Mr. Timothy J, 운임: 51.8625\n",
      "이름: Fortune, Mr. Charles Alexander, 운임: 263.0\n",
      "이름: Spencer, Mrs. William Augustus (Marie Eugenie), 운임: 146.5208\n",
      "이름: Meyer, Mr. Edgar Joseph, 운임: 82.1708\n",
      "이름: Holverson, Mr. Alexander Oskar, 운임: 52.0\n",
      "이름: Harper, Mrs. Henry Sleeper (Myna Haxtun), 운임: 76.7292\n",
      "이름: Ostby, Mr. Engelhart Cornelius, 운임: 61.9792\n",
      "이름: Icard, Miss. Amelie, 운임: 80.0\n",
      "이름: Harris, Mr. Henry Birkhardt, 운임: 83.475\n",
      "이름: Hood, Mr. Ambrose Jr, 운임: 73.5\n",
      "이름: Bing, Mr. Lee, 운임: 56.4958\n",
      "이름: Fortune, Miss. Mabel Helen, 운임: 263.0\n",
      "이름: Chaffee, Mr. Herbert Fuller, 운임: 61.175\n",
      "이름: Greenfield, Mr. William Bertram, 운임: 63.3583\n",
      "이름: White, Mr. Richard Frasar, 운임: 77.2875\n",
      "이름: Porter, Mr. Walter Chamberlain, 운임: 52.0\n",
      "이름: Baxter, Mr. Quigg Edmond, 운임: 247.5208\n",
      "이름: Hickman, Mr. Stanley George, 운임: 73.5\n",
      "이름: White, Mr. Percival Wayland, 운임: 77.2875\n",
      "이름: Futrelle, Mr. Jacques Heath, 운임: 53.1\n",
      "이름: Giglio, Mr. Victor, 운임: 79.2\n",
      "이름: Pears, Mrs. Thomas (Edith Wearne), 운임: 66.6\n",
      "이름: Williams, Mr. Charles Duane, 운임: 61.3792\n",
      "이름: Sage, Master. Thomas Henry, 운임: 69.55\n",
      "이름: Chibnall, Mrs. (Edith Martha Bowerman), 운임: 55.0\n",
      "이름: Ling, Mr. Lee, 운임: 56.4958\n",
      "이름: Sage, Miss. Constance Gladys, 운임: 69.55\n",
      "이름: Rood, Mr. Hugh Roscoe, 운임: 50.0\n",
      "이름: Lurette, Miss. Elise, 운임: 146.5208\n",
      "이름: Sage, Mr. Frederick, 운임: 69.55\n",
      "이름: Newell, Miss. Madeleine, 운임: 113.275\n",
      "이름: Bazzani, Miss. Albina, 운임: 76.2917\n",
      "이름: Hoyt, Mr. Frederick Maxfield, 운임: 90.0\n",
      "이름: Harris, Mrs. Henry Birkhardt (Irene Wallach), 운임: 83.475\n",
      "이름: Minahan, Dr. William Edward, 운임: 90.0\n",
      "이름: Beckwith, Mr. Richard Leonard, 운임: 52.5542\n",
      "이름: Thorne, Mrs. Gertrude Maybelle, 운임: 79.2\n",
      "이름: Cherry, Miss. Gladys, 운임: 86.5\n",
      "이름: Ward, Miss. Anna, 운임: 512.3292\n",
      "이름: Taussig, Mr. Emil, 운임: 79.65\n",
      "이름: Graham, Mrs. William Thompson (Edith Junkins), 운임: 153.4625\n",
      "이름: Bissette, Miss. Amelia, 운임: 135.6333\n",
      "이름: Andrews, Miss. Kornelia Theodosia, 운임: 77.9583\n",
      "이름: Barber, Miss. Ellen \"Nellie\", 운임: 78.85\n",
      "이름: Bishop, Mrs. Dickinson H (Helen Walton), 운임: 91.0792\n",
      "이름: Allison, Miss. Helen Loraine, 운임: 151.55\n",
      "이름: Baxter, Mrs. James (Helene DeLaudeniere Chaput), 운임: 247.5208\n",
      "이름: Allison, Master. Hudson Trevor, 운임: 151.55\n",
      "이름: Fleming, Miss. Margaret, 운임: 110.8833\n",
      "이름: Penasco y Castellana, Mrs. Victor de Satode (Maria Josefa Perez de Soto y Vallejo), 운임: 108.9\n",
      "이름: Francatelli, Miss. Laura Mabel, 운임: 56.9292\n",
      "이름: Hays, Miss. Margaret Bechstein, 운임: 83.1583\n",
      "이름: Ryerson, Miss. Emily Borie, 운임: 262.375\n",
      "이름: Wick, Miss. Mary Natalie, 운임: 164.8667\n",
      "이름: Spedden, Mrs. Frederic Oakley (Margaretta Corning Stone), 운임: 134.5\n",
      "이름: Sage, Mr. George John Jr, 운임: 69.55\n",
      "이름: Young, Miss. Marie Grice, 운임: 135.6333\n",
      "이름: Hippach, Miss. Jean Gertrude, 운임: 57.9792\n",
      "이름: Graham, Mr. George Edward, 운임: 153.4625\n",
      "이름: Frauenthal, Mrs. Henry William (Clara Heinsheimer), 운임: 133.65\n",
      "이름: Pears, Mr. Thomas Clinton, 운임: 66.6\n",
      "이름: Burns, Miss. Elizabeth Margaret, 운임: 134.5\n",
      "이름: Fortune, Miss. Alice Elizabeth, 운임: 263.0\n",
      "이름: Bowerman, Miss. Elsie Edith, 운임: 55.0\n",
      "이름: Warren, Mrs. Frank Manley (Anna Sophia Atkinson), 운임: 75.25\n",
      "이름: Aubart, Mme. Leontine Pauline, 운임: 69.3\n",
      "이름: Harder, Mr. George Achilles, 운임: 55.4417\n",
      "이름: Ringhini, Mr. Sante, 운임: 135.6333\n",
      "이름: Meyer, Mrs. Edgar Joseph (Leila Saks), 운임: 82.1708\n",
      "이름: Widener, Mr. Harry Elkins, 운임: 211.5\n",
      "이름: Bidois, Miss. Rosalie, 운임: 227.525\n",
      "이름: Holverson, Mrs. Alexander Oskar (Mary Aline Towner), 운임: 52.0\n",
      "이름: Davies, Mr. Charles Henry, 운임: 73.5\n",
      "이름: Carter, Mr. William Ernest, 운임: 120.0\n",
      "이름: Newell, Miss. Marjorie, 운임: 113.275\n",
      "이름: Minahan, Miss. Daisy E, 운임: 90.0\n",
      "이름: Silvey, Mr. William Baird, 운임: 55.9\n",
      "이름: Carter, Miss. Lucile Polk, 운임: 120.0\n",
      "이름: Fortune, Mr. Mark, 운임: 263.0\n",
      "이름: Dodge, Master. Washington, 운임: 81.8583\n",
      "이름: Goldenberg, Mr. Samuel L, 운임: 89.1042\n",
      "이름: Kenyon, Mrs. Frederick R (Marion), 운임: 51.8625\n",
      "이름: Clifford, Mr. George Quincy, 운임: 52.0\n",
      "이름: Bishop, Mr. Dickinson H, 운임: 91.0792\n",
      "이름: Hoyt, Mrs. Frederick Maxfield (Jane Anne Forby), 운임: 90.0\n",
      "이름: Eustis, Miss. Elizabeth Mussey, 운임: 78.2667\n",
      "이름: Allison, Mrs. Hudson J C (Bessie Waldo Daniels), 운임: 151.55\n",
      "이름: Maioni, Miss. Roberta, 운임: 86.5\n",
      "이름: Penasco y Castellana, Mr. Victor de Satode, 운임: 108.9\n",
      "이름: Lang, Mr. Fang, 운임: 56.4958\n",
      "이름: Rothschild, Mrs. Martin (Elizabeth L. Barrett), 운임: 59.4\n",
      "이름: Perreault, Miss. Anne, 운임: 93.5\n",
      "이름: Hippach, Mrs. Louis Albert (Ida Sophia Fischer), 운임: 57.9792\n",
      "이름: Farthing, Mr. John, 운임: 221.7792\n",
      "이름: LeRoy, Miss. Bertha, 운임: 106.425\n",
      "이름: Crosby, Miss. Harriet R, 운임: 71.0\n",
      "이름: Douglas, Mr. Walter Donald, 운임: 106.425\n",
      "이름: Thayer, Mr. John Borland Jr, 운임: 110.8833\n",
      "이름: Robbins, Mr. Victor, 운임: 227.525\n",
      "이름: Taussig, Mrs. Emil (Tillie Mandelbaum), 운임: 79.65\n",
      "이름: Appleton, Mrs. Edward Dale (Charlotte Lamson), 운임: 51.4792\n",
      "이름: Silvey, Mrs. William Baird (Alice Munger), 운임: 55.9\n",
      "이름: Thayer, Mrs. John Borland (Marian Longstreth Morris), 운임: 110.8833\n",
      "이름: Taussig, Miss. Ruth, 운임: 79.65\n",
      "이름: Frolicher-Stehli, Mr. Maxmillian, 운임: 79.2\n",
      "이름: Stephenson, Mrs. Walter Bertram (Martha Eustis), 운임: 78.2667\n",
      "이름: Duff Gordon, Sir. Cosmo Edmund (\"Mr Morgan\"), 운임: 56.9292\n",
      "이름: Shutes, Miss. Elizabeth W, 운임: 153.4625\n",
      "이름: Herman, Miss. Alice, 운임: 65.0\n",
      "이름: Kimball, Mr. Edwin Nelson Jr, 운임: 52.5542\n",
      "이름: Longley, Miss. Gretchen Fiske, 운임: 77.9583\n",
      "이름: Sagesser, Mlle. Emma, 운임: 69.3\n",
      "이름: Foo, Mr. Choong, 운임: 56.4958\n",
      "이름: Harper, Mr. Henry Sleeper, 운임: 76.7292\n",
      "이름: Hickman, Mr. Leonard Mark, 운임: 73.5\n",
      "이름: Newell, Mr. Arthur Webster, 운임: 113.275\n",
      "이름: Frauenthal, Dr. Henry William, 운임: 133.65\n",
      "이름: Hickman, Mr. Lewis, 운임: 73.5\n",
      "이름: Taylor, Mrs. Elmer Zebley (Juliet Cummins Wright), 운임: 52.0\n",
      "이름: Davidson, Mr. Thornton, 운임: 52.0\n",
      "이름: Cardeza, Mr. Thomas Drake Martinez, 운임: 512.3292\n",
      "이름: Hassab, Mr. Hammad, 운임: 76.7292\n",
      "이름: Madill, Miss. Georgette Alexandra, 운임: 211.3375\n",
      "이름: Dick, Mr. Albert Adrian, 운임: 57.0\n",
      "이름: Lam, Mr. Ali, 운임: 56.4958\n",
      "이름: Thayer, Mr. John Borland, 운임: 110.8833\n",
      "이름: Astor, Mrs. John Jacob (Madeleine Talmadge Force), 운임: 227.525\n",
      "이름: Cleaver, Miss. Alice, 운임: 151.55\n",
      "이름: Taylor, Mr. Elmer Zebley, 운임: 52.0\n",
      "이름: Endres, Miss. Caroline Louise, 운임: 227.525\n",
      "이름: Chambers, Mr. Norman Campbell, 운임: 53.1\n",
      "이름: Allen, Miss. Elisabeth Walton, 운임: 211.3375\n",
      "이름: Lesurer, Mr. Gustave J, 운임: 512.3292\n",
      "이름: Cavendish, Mr. Tyrell William, 운임: 78.85\n",
      "이름: Ryerson, Miss. Susan Parker \"Suzette\", 운임: 262.375\n",
      "이름: Crosby, Capt. Edward Gifford, 운임: 71.0\n",
      "이름: Marvin, Mr. Daniel Warner, 운임: 53.1\n",
      "이름: Herman, Mrs. Samuel (Jane Laver), 운임: 65.0\n",
      "이름: Rothes, the Countess. of (Lucy Noel Martha Dyer-Edwards), 운임: 86.5\n",
      "이름: Carter, Mrs. William Ernest (Lucile Polk), 운임: 120.0\n",
      "이름: Hogeboom, Mrs. John C (Anna Andrews), 운임: 77.9583\n",
      "이름: Robert, Mrs. Edward Scott (Elisabeth Walton McMillan), 운임: 211.3375\n",
      "이름: Dick, Mrs. Albert Adrian (Vera Gillespie), 운임: 57.0\n",
      "이름: Guggenheim, Mr. Benjamin, 운임: 79.2\n",
      "이름: Sage, Miss. Stella Anna, 운임: 69.55\n",
      "이름: Carter, Master. William Thornton II, 운임: 120.0\n",
      "이름: Chambers, Mrs. Norman Campbell (Bertha Griggs), 운임: 53.1\n",
      "이름: Hays, Mrs. Charles Melville (Clara Jennings Gregg), 운임: 93.5\n",
      "이름: Lam, Mr. Len, 운임: 56.4958\n",
      "이름: Stone, Mrs. George Nelson (Martha Evelyn), 운임: 80.0\n",
      "이름: Compton, Miss. Sara Rebecca, 운임: 83.1583\n",
      "이름: Chip, Mr. Chang, 운임: 56.4958\n",
      "이름: Sage, Mr. Douglas Bullen, 운임: 69.55\n",
      "이름: Goldenberg, Mrs. Samuel L (Edwiga Grabowska), 운임: 89.1042\n",
      "이름: Wick, Mrs. George Dennick (Mary Hitchcock), 운임: 164.8667\n",
      "이름: Sage, Miss. Dorothy Edith \"Dolly\", 운임: 69.55\n",
      "이름: Roebling, Mr. Washington Augustus II, 운임: 50.4958\n",
      "이름: Beckwith, Mrs. Richard Leonard (Sallie Monypeny), 운임: 52.5542\n",
      "이름: Potter, Mrs. Thomas Jr (Lily Alexenia Wilson), 운임: 83.1583\n"
     ]
    }
   ],
   "source": [
    "# 5. 운임이 50 이상인 승객의 이름과 운임 출력\n",
    "\n",
    "# 운임이 50 이상인 승객 필터링\n",
    "rich_passengers = df[df['Fare'] >= 50]\n",
    "\n",
    "# 이름과 운임 출력\n",
    "for idx, row in rich_passengers.iterrows():\n",
    "    print(f\"이름: {row['Name']}, 운임: {row['Fare']}\")"
   ]
  },
  {
   "cell_type": "code",
   "execution_count": 20,
   "metadata": {},
   "outputs": [
    {
     "name": "stdout",
     "output_type": "stream",
     "text": [
      "나이가 18세 미만인 승객의 생존율 : 0.54\n"
     ]
    }
   ],
   "source": [
    "# 6. 나이가 18세 미만인 승객들의 생존율을 계산하여 출력\n",
    "\n",
    "young = df[df['Age'] < 18]\n",
    "\n",
    "surviver_rate = young['Survived'].mean()\n",
    "\n",
    "print(f\"나이가 18세 미만인 승객의 생존율 : {surviver_rate:.2f}\")"
   ]
  },
  {
   "cell_type": "code",
   "execution_count": 21,
   "metadata": {},
   "outputs": [
    {
     "name": "stdout",
     "output_type": "stream",
     "text": [
      "2등급 객실에 탑승한 승객의 평균 운임 : 20.66\n"
     ]
    }
   ],
   "source": [
    "# 7. 2등급 객실에 탑승한 승객의 평균 운임을 계산하여 출력\n",
    "\n",
    "second_class = df[df['Pclass'] == 2]\n",
    "\n",
    "fare_mean = second_class['Fare'].mean()\n",
    "\n",
    "print(f\"2등급 객실에 탑승한 승객의 평균 운임 : {fare_mean:.2f}\")"
   ]
  },
  {
   "cell_type": "code",
   "execution_count": 27,
   "metadata": {},
   "outputs": [
    {
     "name": "stdout",
     "output_type": "stream",
     "text": [
      "승객 중 Barkworth, Mr. Algernon Henry Wilson이 80.0살로 나이가 제일 많다.\n"
     ]
    }
   ],
   "source": [
    "# 8. 승객 중 나이가 가장 많은 사람의 나이와 이름을 출력\n",
    "\n",
    "max_age = df.loc[df['Age'].idxmax()]\n",
    "\n",
    "name = max_age['Name']\n",
    "age = max_age['Age']\n",
    "\n",
    "print(f\"승객 중 {name}이 {age}살로 나이가 제일 많다.\")"
   ]
  },
  {
   "cell_type": "code",
   "execution_count": 31,
   "metadata": {},
   "outputs": [
    {
     "name": "stdout",
     "output_type": "stream",
     "text": [
      "S 항구에서 탑승한 승객의 수는 644명 입니다.\n"
     ]
    }
   ],
   "source": [
    "# 9. S 항구에서 탑승한 승객의 수를 출력\n",
    "\n",
    "num_s_embarked = df[df['Embarked'] == 'S'].shape[0]\n",
    "\n",
    "print(f\"S 항구에서 탑승한 승객의 수는 {num_s_embarked}명 입니다.\")"
   ]
  },
  {
   "cell_type": "code",
   "execution_count": 36,
   "metadata": {},
   "outputs": [
    {
     "name": "stdout",
     "output_type": "stream",
     "text": [
      "3등급 객실에 탑승한 남성 승객 중 생존자의 수는 47명 입니다.\n"
     ]
    }
   ],
   "source": [
    "# 10. 3등급 객실에 탑승한 남성 승객 중 생존자의 수를 출력\n",
    "\n",
    "survived_male_pclass3 = df[(df['Pclass'] == 3) & (df['Sex'] == 'male') & (df['Survived'] == 1)].shape[0]\n",
    "\n",
    "print(f\"3등급 객실에 탑승한 남성 승객 중 생존자의 수는 {survived_male_pclass3}명 입니다.\")"
   ]
  },
  {
   "cell_type": "markdown",
   "metadata": {},
   "source": [
    "- 고급문제"
   ]
  },
  {
   "cell_type": "code",
   "execution_count": 34,
   "metadata": {},
   "outputs": [],
   "source": [
    "# 1. 생존자(Survived)와 그렇지 않은 사람들의 `Pclass`(객실 등급)별 평균 나이를 각각 출력"
   ]
  },
  {
   "cell_type": "code",
   "execution_count": 35,
   "metadata": {},
   "outputs": [],
   "source": [
    "# 2. `SibSp`(형제/배우자 수)가 3 이상인 승객들 중에서, `Fare`(운임) 상위 5명의 이름과 나이를 출력"
   ]
  },
  {
   "cell_type": "code",
   "execution_count": 36,
   "metadata": {},
   "outputs": [],
   "source": [
    "# 3. 승객 중에서 `Age` 값이 결측치(NaN)인 사람들의 `Embarked`(탑승 항구)별 분포를 출력"
   ]
  },
  {
   "cell_type": "code",
   "execution_count": 37,
   "metadata": {},
   "outputs": [],
   "source": [
    "# 4. 나이가 16세 미만이고, 혼자 탑승한(`SibSp == 0` and `Parch == 0`) 승객의 이름과 성별, 생존 여부를 출력"
   ]
  },
  {
   "cell_type": "code",
   "execution_count": 38,
   "metadata": {},
   "outputs": [],
   "source": [
    "# 5. 1등급(Pclass == 1) 객실에 탑승한 승객들 중에서, 운임(Fare)이 평균보다 높은 사람들의 이름과 나이, 운임을 출력"
   ]
  },
  {
   "cell_type": "code",
   "execution_count": 39,
   "metadata": {},
   "outputs": [],
   "source": [
    "# 6. 나이(Age), 객실 등급(Pclass), 운임(Fare) 값에 결측치가 없는 승객들만 대상으로, 각 등급별 평균 운임과 중앙값 운임을 출력"
   ]
  },
  {
   "cell_type": "code",
   "execution_count": 40,
   "metadata": {},
   "outputs": [],
   "source": [
    "# 7. 승객들의 `Embarked` 별 평균 나이를 계산하고, 가장 많은 승객이 탑승한 항구를 기준으로 생존율을 계산하여 출력"
   ]
  },
  {
   "cell_type": "code",
   "execution_count": 41,
   "metadata": {},
   "outputs": [],
   "source": [
    "# 8. 승객 중에서 여성(`Sex == 'female'`)이면서 30세 이상인 사람들의 생존율을 계산하여 출력"
   ]
  },
  {
   "cell_type": "code",
   "execution_count": 42,
   "metadata": {},
   "outputs": [],
   "source": [
    "# 9. 동반한 형제 또는 배우자 수(`SibSp`)와 부모 또는 자녀 수(`Parch`)의 합이 3 이상인 승객들만을 대상으로, 그들의 생존율을 계산하여 출력"
   ]
  },
  {
   "cell_type": "code",
   "execution_count": 43,
   "metadata": {},
   "outputs": [],
   "source": [
    "# 10. `Cabin`(객실 번호) 정보가 있는 승객들만을 대상으로, 그들의 생존율을 객실 등급별로 구분하여 계산하여 출력"
   ]
  }
 ],
 "metadata": {
  "kernelspec": {
   "display_name": "helloworld",
   "language": "python",
   "name": "python3"
  },
  "language_info": {
   "codemirror_mode": {
    "name": "ipython",
    "version": 3
   },
   "file_extension": ".py",
   "mimetype": "text/x-python",
   "name": "python",
   "nbconvert_exporter": "python",
   "pygments_lexer": "ipython3",
   "version": "3.11.14"
  }
 },
 "nbformat": 4,
 "nbformat_minor": 2
}
