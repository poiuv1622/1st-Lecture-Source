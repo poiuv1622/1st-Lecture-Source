{
    "cells": [
        {
            "cell_type": "markdown",
            "metadata": {},
            "source": [
                "# 06. 그래프에 텍스트 추가하기\n",
                "---\n",
                "### 텍스트의 중요성\n",
                "- 그래프에 텍스트를 추가하면 데이터를 더욱 명확하게 전달할 수 있다.\n",
                "- 특정 데이터 포인트의 값을 직접 표시하거나, 주석을 달아 정보를 보충할 수 있다.\n"
            ]
        },
        {
            "cell_type": "code",
            "execution_count": null,
            "metadata": {},
            "outputs": [],
            "source": [
                "import matplotlib.pyplot as plt\n",
                "import matplotlib\n",
                "\n",
                "matplotlib.rcParams['font.family'] = 'Malgun Gothic' # 한글 폰트 설정\n",
                "# matplotlib.rcParams['font.family'] = 'AppleGothic' # Mac 사용자\n",
                "matplotlib.rcParams['font.size'] = 15 # 폰트 크기 설정\n",
                "matplotlib.rcParams['axes.unicode_minus'] = False # 마이너스 기호 깨짐 방지\n"
            ]
        },
        {
            "cell_type": "code",
            "execution_count": null,
            "metadata": {},
            "outputs": [],
            "source": [
                "# 기본 데이터 준비\n",
                "x = [1, 2, 3]\n",
                "y = [2, 4, 8]\n"
            ]
        },
        {
            "cell_type": "markdown",
            "metadata": {},
            "source": [
                "## 기본 그래프 준비"
            ]
        },
        {
            "cell_type": "code",
            "execution_count": null,
            "metadata": {},
            "outputs": [],
            "source": []
        },
        {
            "cell_type": "markdown",
            "metadata": {},
            "source": [
                "## text() 함수로 텍스트 추가하기\n",
                "### 기본 텍스트 추가\n",
                "- **text(x, y, text)** 함수를 사용하여 지정한 좌표에 텍스트를 추가할 수 있다.\n",
                "- 각 데이터 포인트에 값을 표시하면 더욱 이해하기 쉬운 그래프가 된다.\n"
            ]
        },
        {
            "cell_type": "markdown",
            "metadata": {},
            "source": [
                "### enumerate\n",
                "- for 반복문에서 인덱스와 값을 동시에 꺼내쓸 때 사용하는 함수\n",
                "- 리스트,문자열 등 을 입력받아 (인덱스,값) 형태의 튜플로 묶어서 반환해준다."
            ]
        },
        {
            "cell_type": "code",
            "execution_count": null,
            "metadata": {},
            "outputs": [],
            "source": []
        },
        {
            "cell_type": "code",
            "execution_count": null,
            "metadata": {},
            "outputs": [],
            "source": []
        },
        {
            "cell_type": "markdown",
            "metadata": {},
            "source": [
                "### 텍스트 위치 및 스타일 조정\n",
                "- **ha** (horizontal alignment): 수평 정렬 ('left', 'center', 'right')\n",
                "- **va** (vertical alignment): 수직 정렬 ('top', 'center', 'bottom')\n",
                "- **color**: 텍스트 색상 지정\n",
                "- 텍스트를 데이터 포인트 위에 표시하면 그래프가 더욱 깔끔해진다.\n"
            ]
        },
        {
            "cell_type": "code",
            "execution_count": null,
            "metadata": {},
            "outputs": [],
            "source": []
        },
        {
            "cell_type": "markdown",
            "metadata": {},
            "source": [
                "## annotate() 함수로 주석 추가하기\n",
                "### 화살표와 함께 주석 달기\n",
                "- **annotate()** 함수를 사용하면 화살표와 함께 주석을 달 수 있다.\n",
                "- 특정 데이터 포인트를 강조하거나 설명할 때 유용하다.\n",
                "- **xy**: 화살표가 가리킬 위치\n",
                "- **xytext**: 텍스트가 표시될 위치\n",
                "- **arrowprops**: 화살표 스타일 설정\n"
            ]
        },
        {
            "cell_type": "code",
            "execution_count": null,
            "metadata": {},
            "outputs": [],
            "source": []
        },
        {
            "cell_type": "markdown",
            "metadata": {},
            "source": [
                "## [연습 문제] 판매 데이터 시각화\n",
                "### 판매액 추이에 값 표시하기"
            ]
        },
        {
            "cell_type": "code",
            "execution_count": null,
            "metadata": {},
            "outputs": [],
            "source": [
                "# 월별 판매액 데이터 (단위: 만원)\n",
                "months = ['1월', '2월', '3월', '4월', '5월']\n",
                "sales = [150, 180, 165, 220, 200]\n",
                "\n"
            ]
        }
    ],
    "metadata": {
        "kernelspec": {
            "display_name": "bear",
            "language": "python",
            "name": "python3"
        },
        "language_info": {
            "codemirror_mode": {
                "name": "ipython",
                "version": 3
            },
            "file_extension": ".py",
            "mimetype": "text/x-python",
            "name": "python",
            "nbconvert_exporter": "python",
            "pygments_lexer": "ipython3",
            "version": "3.12.11"
        }
    },
    "nbformat": 4,
    "nbformat_minor": 2
}
