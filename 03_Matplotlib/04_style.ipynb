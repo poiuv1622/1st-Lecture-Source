{
    "cells": [
        {
            "cell_type": "markdown",
            "metadata": {},
            "source": [
                "# 04. 그래프 스타일 설정\n",
                "---\n",
                "### 그래프 시각화 향상\n",
                "- 그래프의 선 스타일, 색상, 마커 등을 변경하여 더 명확하고 보기 좋은 시각화를 만들 수 있다.\n",
                "- 여러 데이터를 한 그래프에 표시할 때 각 데이터를 쉽게 구분할 수 있도록 스타일을 설정한다.\n"
            ]
        },
        {
            "cell_type": "code",
            "execution_count": null,
            "metadata": {},
            "outputs": [],
            "source": [
                "import matplotlib.pyplot as plt\n",
                "import matplotlib\n",
                "\n",
                "matplotlib.rcParams['font.family'] = 'Malgun Gothic' # 한글 폰트 설정\n",
                "# matplotlib.rcParams['font.family'] = 'AppleGothic' # Mac 사용자\n",
                "matplotlib.rcParams['font.size'] = 15 # 폰트 크기 설정\n",
                "matplotlib.rcParams['axes.unicode_minus'] = False # 마이너스 기호 깨짐 방지\n"
            ]
        },
        {
            "cell_type": "markdown",
            "metadata": {},
            "source": [
                "## 선 색상 설정\n",
                "### color 파라미터\n",
                "- **color** 파라미터를 사용하여 선의 색상을 변경할 수 있다.\n",
                "- 색상 지정 방법:\n",
                "    - 색상 이름: 'red', 'blue', 'green' 등\n",
                "    - 단축 코드: 'r', 'b', 'g', 'c', 'm', 'y', 'k', 'w'\n",
                "    - RGB 코드: '#FF0000' (빨강), '#00FF00' (초록) 등\n"
            ]
        },
        {
            "cell_type": "code",
            "execution_count": null,
            "metadata": {},
            "outputs": [],
            "source": []
        },
        {
            "cell_type": "markdown",
            "metadata": {},
            "source": [
                "## 선 스타일 설정\n",
                "### linestyle (ls) 파라미터\n",
                "- **linestyle** 또는 **ls** 파라미터로 선의 스타일을 변경할 수 있다.\n",
                "- 주요 선 스타일:\n",
                "    - '-' : 실선 (기본값)\n",
                "    - '--' : 대시선\n",
                "    - '-.' : 대시-점선\n",
                "    - ':' : 점선\n"
            ]
        },
        {
            "cell_type": "code",
            "execution_count": null,
            "metadata": {},
            "outputs": [],
            "source": []
        },
        {
            "cell_type": "markdown",
            "metadata": {},
            "source": [
                "## 마커 설정\n",
                "### marker 파라미터\n",
                "- **marker** 파라미터로 데이터 포인트에 표시할 마커를 지정할 수 있다.\n",
                "- 주요 마커 스타일:\n",
                "    - 'o' : 원\n",
                "    - 's' : 사각형\n",
                "    - '^' : 삼각형 (위)\n",
                "    - 'v' : 삼각형 (아래)\n",
                "    - '*' : 별\n",
                "    - '+' : 플러스\n",
                "    - 'x' : X 표시\n"
            ]
        },
        {
            "cell_type": "code",
            "execution_count": null,
            "metadata": {},
            "outputs": [],
            "source": []
        },
        {
            "cell_type": "markdown",
            "metadata": {},
            "source": [
                "### 마커 크기와 색상\n",
                "- **markersize (ms)**: 마커의 크기를 조정한다.\n",
                "- **markerfacecolor (mfc)**: 마커 내부 색상을 지정한다.\n",
                "- **markeredgecolor (mec)**: 마커 테두리 색상을 지정한다.\n",
                "\n",
                "> 키워드인자 (ms, mfc, mec )\n",
                "> - 약어스타일로 설정이 가능하다.\n"
            ]
        },
        {
            "cell_type": "code",
            "execution_count": null,
            "metadata": {},
            "outputs": [],
            "source": []
        },
        {
            "cell_type": "markdown",
            "metadata": {},
            "source": [
                "## 선 두께 설정\n",
                "### linewidth (lw) 파라미터\n",
                "- **linewidth** 또는 **lw** 파라미터로 선의 두께를 조정할 수 있다.\n",
                "- 기본값은 1.5이며, 숫자가 클수록 선이 두꺼워진다.\n"
            ]
        },
        {
            "cell_type": "code",
            "execution_count": null,
            "metadata": {},
            "outputs": [],
            "source": []
        },
        {
            "cell_type": "markdown",
            "metadata": {},
            "source": [
                "## 여러 데이터 시각화\n",
                "### 3회사의 주가를 표로 표현해보자\n",
                "- 여러 개의 데이터를 한 그래프에 표시하고, 각각을 구분하기 위해 다양한 스타일을 적용한다.\n"
            ]
        },
        {
            "cell_type": "code",
            "execution_count": null,
            "metadata": {},
            "outputs": [],
            "source": [
                "days = [1, 2, 3, 4, 5] # 1일 , 2일, 3일, 4일, 5일\n",
                "samsung = [70000, 72000, 68000, 71000, 73000] # 삼성전자 주가 (단위: 원)\n",
                "kakao = [50000, 48000, 52000, 51000, 53000] # 카카오\n",
                "naver = [200000, 205000, 198000, 210000, 215000] # 네이버\n",
                "\n",
                "\n"
            ]
        }
    ],
    "metadata": {
        "kernelspec": {
            "display_name": "bear",
            "language": "python",
            "name": "python3"
        },
        "language_info": {
            "codemirror_mode": {
                "name": "ipython",
                "version": 3
            },
            "file_extension": ".py",
            "mimetype": "text/x-python",
            "name": "python",
            "nbconvert_exporter": "python",
            "pygments_lexer": "ipython3",
            "version": "3.12.11"
        }
    },
    "nbformat": 4,
    "nbformat_minor": 2
}
